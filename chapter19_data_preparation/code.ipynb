{
 "cells": [
  {
   "cell_type": "markdown",
   "id": "9a67de95-2f94-454c-9079-d68a3e3b38ec",
   "metadata": {},
   "source": [
    "# Chapter XIX: A Real Dataset"
   ]
  },
  {
   "cell_type": "code",
   "execution_count": 1,
   "id": "9b193f37-e229-4c18-b881-bf61fe2778cb",
   "metadata": {},
   "outputs": [],
   "source": [
    "URL = 'https://nnfs.io/datasets/fashion_mnist_images.zip'\n",
    "FILE = 'fashion_mnist_images.zip'\n",
    "FOLDER = 'fashion_mnist_images'"
   ]
  },
  {
   "cell_type": "code",
   "execution_count": 33,
   "id": "e72de511-08d1-4335-8f37-3fd897cd160a",
   "metadata": {},
   "outputs": [],
   "source": [
    "import sys, os\n",
    "\n",
    "# Go up one directory and into 'notebooks'\n",
    "sys.path.append(os.path.abspath('../modules'))\n",
    "\n",
    "import numpy as np\n",
    "from model import Model\n",
    "from layers import Layer_Dense, Layer_Dropout\n",
    "from activation_functions import Activation_ReLU, Activation_Linear, Activation_Softmax\n",
    "from losses import Loss_MeanSquaredError, Loss_CategoricalCrossentropy\n",
    "from optimizers import Optimizer_Adam\n",
    "from accuracy import Accuracy_Regression, Accuracy_Categorical"
   ]
  },
  {
   "cell_type": "code",
   "execution_count": 3,
   "id": "3426e151-3b02-43ac-a3fe-b1d8e6af767f",
   "metadata": {},
   "outputs": [
    {
     "name": "stdout",
     "output_type": "stream",
     "text": [
      "Downloading https://nnfs.io/datasets/fashion_mnist_images.zip and saving as fashion_mnist_images.zip...\n"
     ]
    }
   ],
   "source": [
    "import os\n",
    "import urllib\n",
    "import urllib.request\n",
    "if not os.path.isfile(FILE):\n",
    "    print(f'Downloading {URL} and saving as {FILE}...')\n",
    "    urllib.request.urlretrieve(URL, FILE)"
   ]
  },
  {
   "cell_type": "code",
   "execution_count": 4,
   "id": "cefba450-1982-4c7f-b330-3d5123de6a9b",
   "metadata": {},
   "outputs": [
    {
     "name": "stdout",
     "output_type": "stream",
     "text": [
      "Unzipping images...\n"
     ]
    }
   ],
   "source": [
    "from zipfile import ZipFile\n",
    "print('Unzipping images...')\n",
    "with ZipFile(FILE) as zip_images:\n",
    "    zip_images.extractall(FOLDER)"
   ]
  },
  {
   "cell_type": "code",
   "execution_count": 5,
   "id": "7301d3b6-cd5f-45c2-83a1-5d7180010205",
   "metadata": {},
   "outputs": [
    {
     "name": "stdout",
     "output_type": "stream",
     "text": [
      "['9', '0', '7', '6', '1', '8', '4', '3', '2', '5']\n"
     ]
    }
   ],
   "source": [
    "import os\n",
    "labels = os.listdir('fashion_mnist_images/train')\n",
    "print(labels)"
   ]
  },
  {
   "cell_type": "code",
   "execution_count": 6,
   "id": "87916aa4-a55f-4645-b0b5-1c762e9a6edb",
   "metadata": {},
   "outputs": [
    {
     "name": "stdout",
     "output_type": "stream",
     "text": [
      "['3975.png', '1804.png', '4968.png', '1810.png', '3961.png', '0298.png', '1186.png', '3949.png', '3791.png', '4798.png']\n",
      "6000\n"
     ]
    }
   ],
   "source": [
    "files = os.listdir('fashion_mnist_images/train/0')\n",
    "print(files[:10])\n",
    "print(len(files))"
   ]
  },
  {
   "cell_type": "code",
   "execution_count": 8,
   "id": "6e9c5031-0357-456b-bbe2-22036371097b",
   "metadata": {},
   "outputs": [],
   "source": [
    "# !pip install opencv-python"
   ]
  },
  {
   "cell_type": "code",
   "execution_count": 10,
   "id": "022eda2a-aa02-431d-bbbf-1b2e54729390",
   "metadata": {},
   "outputs": [],
   "source": [
    "import numpy as np\n",
    "np.set_printoptions(linewidth=200)"
   ]
  },
  {
   "cell_type": "code",
   "execution_count": 11,
   "id": "224959e5-cf76-4e0c-9e3f-68ce0a7b08d9",
   "metadata": {},
   "outputs": [
    {
     "name": "stdout",
     "output_type": "stream",
     "text": [
      "[[  0   0   0   0   0   0   0   0   0   0   0   0   0   0   0   0   0   0   0   0   0   0   0   0   0   0   0   0]\n",
      " [  0   0   0   0   0   0   0   0   0   0   0   0   0   0   0   0   0   0   0   0   0   0   0   0   0   0   0   0]\n",
      " [  0   0   0   0   0   0   0   0   0   0   0   0   0   0   0   0   0   0   0   0   0   0   0   0   0   0   0   0]\n",
      " [  0   0   0   0   0   0   0   0   0   0   0   0   0   0   0   0   0   0   0   0   0   0   0   0   0   0   0   0]\n",
      " [  0   0   0   0   0   0   0   0   0   0   0   0   0   0   0   0   0   0   0   0   0   0   0   0   0   0   0   0]\n",
      " [  0   0   0   0   0   0   0   0   0   0   0   0   0   0   0   0   0   0   0   0   0   0   0   0   0   0   0   0]\n",
      " [  0   0   0   0   0   0   0   0   0   0   0   0   0   0   0   0   0   0   0   0   0   0   0   0   0   0   0   0]\n",
      " [  0   0   0   0   0   0   0   0   0   0   0   0   0   1   0   0   0  49 135 182 150  59   0   0   0   0   0   0]\n",
      " [  0   0   0   0   0   0   0   0   0   0   0   0   0   0   0   0  78 255 220 212 219 255 246 191 155  87   0   0]\n",
      " [  0   0   0   0   0   0   0   0   0   0   0   0   1   0   0  57 206 215 203 191 203 212 216 217 220 211  15   0]\n",
      " [  0   0   0   0   0   0   0   0   0   0   1   0   0   0  58 231 220 210 199 209 218 218 217 208 200 215  56   0]\n",
      " [  0   0   0   0   1   2   0   0   4   0   0   0   0 145 213 207 199 187 203 210 216 217 215 215 206 215 130   0]\n",
      " [  0   0   0   0   1   2   4   0   0   0   3 105 225 205 190 201 210 214 213 215 215 212 211 208 205 207 218   0]\n",
      " [  1   5   7   0   0   0   0   0  52 162 217 189 174 157 187 198 202 217 220 223 224 222 217 211 217 201 247  65]\n",
      " [  0   0   0   0   0   0  21  72 185 189 171 171 185 203 200 207 208 209 214 219 222 222 224 215 218 211 212 148]\n",
      " [  0  70 114 129 145 159 179 196 172 176 185 196 199 206 201 210 212 213 216 218 219 217 212 207 208 200 198 173]\n",
      " [  0 122 158 184 194 192 193 196 203 209 211 211 215 218 221 222 226 227 227 226 226 223 222 216 211 208 216 185]\n",
      " [ 21   0   0  12  48  82 123 152 170 184 195 211 225 232 233 237 242 242 240 240 238 236 222 209 200 193 185 106]\n",
      " [ 26  47  54  18   5   0   0   0   0   0   0   0   0   0   2   4   6   9   9   8   9   6   6   4   2   0   0   0]\n",
      " [  0  10  27  45  55  59  57  50  44  51  58  62  65  56  54  57  59  61  60  63  68  67  66  73  77  74  65  39]\n",
      " [  0   0   0   0   4   9  18  23  26  25  23  25  29  37  38  37  39  36  29  31  33  34  28  24  20  14   7   0]\n",
      " [  0   0   0   0   0   0   0   0   0   0   0   0   0   0   0   0   0   0   0   0   0   0   0   0   0   0   0   0]\n",
      " [  0   0   0   0   0   0   0   0   0   0   0   0   0   0   0   0   0   0   0   0   0   0   0   0   0   0   0   0]\n",
      " [  0   0   0   0   0   0   0   0   0   0   0   0   0   0   0   0   0   0   0   0   0   0   0   0   0   0   0   0]\n",
      " [  0   0   0   0   0   0   0   0   0   0   0   0   0   0   0   0   0   0   0   0   0   0   0   0   0   0   0   0]\n",
      " [  0   0   0   0   0   0   0   0   0   0   0   0   0   0   0   0   0   0   0   0   0   0   0   0   0   0   0   0]\n",
      " [  0   0   0   0   0   0   0   0   0   0   0   0   0   0   0   0   0   0   0   0   0   0   0   0   0   0   0   0]\n",
      " [  0   0   0   0   0   0   0   0   0   0   0   0   0   0   0   0   0   0   0   0   0   0   0   0   0   0   0   0]]\n"
     ]
    }
   ],
   "source": [
    "import cv2\n",
    "image_data = cv2.imread('fashion_mnist_images/train/7/0002.png',\n",
    "cv2.IMREAD_UNCHANGED)\n",
    "print(image_data)"
   ]
  },
  {
   "cell_type": "code",
   "execution_count": 12,
   "id": "a2f0d27e-5e05-434f-9d47-3ce15df83a32",
   "metadata": {},
   "outputs": [
    {
     "data": {
      "image/png": "[encoded data removed]",
      "text/plain": [
       "<Figure size 640x480 with 1 Axes>"
      ]
     },
     "metadata": {},
     "output_type": "display_data"
    }
   ],
   "source": [
    "import matplotlib.pyplot as plt\n",
    "image_data = cv2.imread('fashion_mnist_images/train/4/0011.png',\n",
    "cv2.IMREAD_UNCHANGED)\n",
    "plt.imshow(image_data)\n",
    "plt.show()"
   ]
  },
  {
   "cell_type": "code",
   "execution_count": 13,
   "id": "27dae477-7458-43e9-b3b7-f1888c578b63",
   "metadata": {},
   "outputs": [
    {
     "data": {
      "image/png": "[encoded data removed]",
      "text/plain": [
       "<Figure size 640x480 with 1 Axes>"
      ]
     },
     "metadata": {},
     "output_type": "display_data"
    }
   ],
   "source": [
    "import matplotlib.pyplot as plt\n",
    "image_data = cv2.imread('fashion_mnist_images/train/4/0011.png',\n",
    "cv2.IMREAD_UNCHANGED)\n",
    "plt.imshow(image_data, cmap='gray')\n",
    "plt.show()"
   ]
  },
  {
   "cell_type": "code",
   "execution_count": 14,
   "id": "8615c0b1-09e5-4616-a936-d7f2d5b20fef",
   "metadata": {},
   "outputs": [],
   "source": [
    "# Scan all the directories and create a list of labels\n",
    "labels = os.listdir('fashion_mnist_images/train')\n",
    "# Create lists for samples and labels\n",
    "X = []\n",
    "y = []\n",
    "# For each label folder\n",
    "for label in labels:\n",
    "    # And for each image in given folder\n",
    "    for file in os.listdir(os.path.join(\n",
    "    'fashion_mnist_images', 'train', label\n",
    "    )):\n",
    "        # Read the image\n",
    "        image = cv2.imread(os.path.join(\n",
    "        'fashion_mnist_images/train', label, file\n",
    "        ), cv2.IMREAD_UNCHANGED)\n",
    "        # And append it and a label to the lists\n",
    "        X.append(image)\n",
    "        y.append(label)"
   ]
  },
  {
   "cell_type": "code",
   "execution_count": 15,
   "id": "a6c1a4e8-a12c-4cf1-94c9-a7fd1a32ffa2",
   "metadata": {},
   "outputs": [],
   "source": [
    "import numpy as np\n",
    "import cv2\n",
    "import os\n",
    "\n",
    "# Loads an MNIST dataset\n",
    "def load_mnist_dataset(dataset, path):\n",
    "    # Scan all the directories and create a list of labels\n",
    "    labels = os.listdir(os.path.join(path, dataset))\n",
    "\n",
    "    # Create lists for samples and labels\n",
    "    X = []\n",
    "    y = []\n",
    "\n",
    "    # For each label folder\n",
    "    for label in labels:\n",
    "        # And for each image in given folder\n",
    "        for file in os.listdir(os.path.join(path, dataset, label)):\n",
    "            # Read the image\n",
    "            image = cv2.imread(\n",
    "                os.path.join(path, dataset, label, file),\n",
    "                cv2.IMREAD_UNCHANGED\n",
    "            )\n",
    "            # And append it and a label to the lists\n",
    "            X.append(image)\n",
    "            y.append(label)\n",
    "\n",
    "    # Convert the data to proper numpy arrays and return\n",
    "    return np.array(X), np.array(y).astype('uint8')\n"
   ]
  },
  {
   "cell_type": "code",
   "execution_count": 16,
   "id": "e6c03a93-f069-4388-bf5b-ff80cd61b460",
   "metadata": {},
   "outputs": [],
   "source": [
    "# MNIST dataset (train + test)\n",
    "def create_data_mnist(path):\n",
    "    # Load both sets separately\n",
    "    X, y = load_mnist_dataset('train', path)\n",
    "    X_test, y_test = load_mnist_dataset('test', path)\n",
    "    # And return all the data\n",
    "    return X, y, X_test, y_test"
   ]
  },
  {
   "cell_type": "code",
   "execution_count": 17,
   "id": "a37fc3ec-93f0-42c7-b287-ab380d393217",
   "metadata": {},
   "outputs": [],
   "source": [
    "X, y, X_test, y_test = create_data_mnist('fashion_mnist_images')"
   ]
  },
  {
   "cell_type": "code",
   "execution_count": 18,
   "id": "e93a54db-bd0d-4439-b974-dfc6669a4bd4",
   "metadata": {},
   "outputs": [],
   "source": [
    "# Scale features\n",
    "X = (X.astype(np.float32) - 127.5) / 127.5\n",
    "X_test = (X_test.astype(np.float32) - 127.5) / 127.5"
   ]
  },
  {
   "cell_type": "code",
   "execution_count": 19,
   "id": "ad51422c-d16f-4de5-a3c4-8dc883df4007",
   "metadata": {},
   "outputs": [
    {
     "name": "stdout",
     "output_type": "stream",
     "text": [
      "-1.0 1.0\n"
     ]
    }
   ],
   "source": [
    "print(X.min(), X.max())"
   ]
  },
  {
   "cell_type": "code",
   "execution_count": 20,
   "id": "a1d40869-53db-424e-835e-d472d36d6318",
   "metadata": {},
   "outputs": [],
   "source": [
    "# Reshape to vectors\n",
    "X = X.reshape(X.shape[0], -1)\n",
    "X_test = X_test.reshape(X_test.shape[0], -1)"
   ]
  },
  {
   "cell_type": "code",
   "execution_count": 21,
   "id": "6e0d039c-5305-43e7-b948-6ea21aab88b9",
   "metadata": {},
   "outputs": [
    {
     "name": "stdout",
     "output_type": "stream",
     "text": [
      "[0 1 2 3 4 5 6 7 8 9]\n"
     ]
    }
   ],
   "source": [
    "keys = np.array(range(X.shape[0]))\n",
    "print(keys[:10])"
   ]
  },
  {
   "cell_type": "code",
   "execution_count": 22,
   "id": "48d88740-fa0e-4db7-a83c-8bf388c035ac",
   "metadata": {},
   "outputs": [
    {
     "name": "stdout",
     "output_type": "stream",
     "text": [
      "[ 3048 19563 58303  8870 40228 31488 21860 56864   845 25770]\n"
     ]
    }
   ],
   "source": [
    "import nnfs\n",
    "nnfs.init()\n",
    "np.random.shuffle(keys)\n",
    "print(keys[:10])\n",
    "\n",
    "X = X[keys]\n",
    "y = y[keys]"
   ]
  },
  {
   "cell_type": "code",
   "execution_count": 23,
   "id": "ca22e93c-233a-485e-8137-3e78adaab3f6",
   "metadata": {},
   "outputs": [],
   "source": [
    "X = X[keys]\n",
    "y = y[keys]"
   ]
  },
  {
   "cell_type": "code",
   "execution_count": 25,
   "id": "0966deaa-4574-4c58-a0fa-7718858df80e",
   "metadata": {},
   "outputs": [
    {
     "data": {
      "image/png": "[encoded data removed]",
      "text/plain": [
       "<Figure size 640x480 with 1 Axes>"
      ]
     },
     "metadata": {},
     "output_type": "display_data"
    }
   ],
   "source": [
    "import matplotlib.pyplot as plt\n",
    "plt.imshow((X[4].reshape(28, 28)))\n",
    "plt.show()"
   ]
  },
  {
   "cell_type": "code",
   "execution_count": 26,
   "id": "f50891b0-c0e4-4e7c-b47c-6af794cb9ecf",
   "metadata": {},
   "outputs": [],
   "source": [
    "import nnfs\n",
    "from nnfs.datasets import spiral_data\n",
    "nnfs.init()\n",
    "# Create dataset\n",
    "X, y = spiral_data(samples=100, classes=3)\n",
    "EPOCHS = 10\n",
    "BATCH_SIZE = 128 # We take 128 samples at once\n",
    "# Calculate number of steps\n",
    "steps = X.shape[0] // BATCH_SIZE\n",
    "# Dividing rounds down. If there are some remaining data,\n",
    "# but not a full batch, this won't include it.\n",
    "# Add 1 to include the remaining samples in 1 more step.\n",
    "if steps * BATCH_SIZE < X.shape[0]:\n",
    "    steps += 1\n",
    "\n",
    "for epoch in range(EPOCHS):\n",
    "    for step in range(steps):\n",
    "        batch_X = X[step*BATCH_SIZE:(step+1)*BATCH_SIZE]\n",
    "        batch_y = y[step*BATCH_SIZE:(step+1)*BATCH_SIZE]\n",
    "        # Now we perform forward pass, loss calculation,\n",
    "        # backward pass and update parameters"
   ]
  },
  {
   "cell_type": "code",
   "execution_count": 37,
   "id": "ba1e5fec-e915-4cae-a9f7-cb3f2df1b68e",
   "metadata": {},
   "outputs": [],
   "source": [
    "# Create dataset\n",
    "X, y, X_test, y_test = create_data_mnist('fashion_mnist_images')\n",
    "# Shuffle the training dataset\n",
    "keys = np.array(range(X.shape[0]))\n",
    "np.random.shuffle(keys)\n",
    "X = X[keys]\n",
    "y = y[keys]\n",
    "# Scale and reshape samples\n",
    "X = (X.reshape(X.shape[0], -1).astype(np.float32) - 127.5) / 127.5\n",
    "X_test = (X_test.reshape(X_test.shape[0], -1).astype(np.float32) -\n",
    "127.5) / 127.5\n",
    "# Instantiate the model\n",
    "model = Model()"
   ]
  },
  {
   "cell_type": "code",
   "execution_count": 38,
   "id": "56bccc8c-c736-4f9c-a1e4-01c7ee88de78",
   "metadata": {},
   "outputs": [
    {
     "name": "stdout",
     "output_type": "stream",
     "text": [
      "epoch: 1\n",
      "step: 0, acc: 0.102, loss: 2.579 (data_loss: 2.579, reg_loss: 0.000), lr: 0.001\n",
      "step: 100, acc: 0.812, loss: 0.470 (data_loss: 0.470, reg_loss: 0.000), lr: 0.0009900990099009901\n",
      "step: 200, acc: 0.883, loss: 0.370 (data_loss: 0.370, reg_loss: 0.000), lr: 0.000980392156862745\n",
      "step: 300, acc: 0.859, loss: 0.371 (data_loss: 0.371, reg_loss: 0.000), lr: 0.0009708737864077671\n",
      "step: 400, acc: 0.891, loss: 0.365 (data_loss: 0.365, reg_loss: 0.000), lr: 0.0009615384615384615\n",
      "step: 468, acc: 0.885, loss: 0.469 (data_loss: 0.469, reg_loss: 0.000), lr: 0.0009552923194497518\n",
      "training, acc: 0.816, loss: 0.509 (data_loss: 0.509, reg_loss: 0.000), lr: 0.0009552923194497518\n",
      "validation, acc: 0.844, loss: 0.421\n",
      "epoch: 2\n",
      "step: 0, acc: 0.852, loss: 0.437 (data_loss: 0.437, reg_loss: 0.000), lr: 0.0009552010698251983\n",
      "step: 100, acc: 0.844, loss: 0.346 (data_loss: 0.346, reg_loss: 0.000), lr: 0.0009461633077869241\n",
      "step: 200, acc: 0.875, loss: 0.301 (data_loss: 0.301, reg_loss: 0.000), lr: 0.0009372949667260287\n",
      "step: 300, acc: 0.875, loss: 0.302 (data_loss: 0.302, reg_loss: 0.000), lr: 0.0009285913269570063\n",
      "step: 400, acc: 0.906, loss: 0.302 (data_loss: 0.302, reg_loss: 0.000), lr: 0.0009200478424878093\n",
      "step: 468, acc: 0.885, loss: 0.458 (data_loss: 0.458, reg_loss: 0.000), lr: 0.0009143275121148394\n",
      "training, acc: 0.867, loss: 0.367 (data_loss: 0.367, reg_loss: 0.000), lr: 0.0009143275121148394\n",
      "validation, acc: 0.864, loss: 0.378\n",
      "epoch: 3\n",
      "step: 0, acc: 0.883, loss: 0.374 (data_loss: 0.374, reg_loss: 0.000), lr: 0.0009142439202779302\n",
      "step: 100, acc: 0.852, loss: 0.304 (data_loss: 0.304, reg_loss: 0.000), lr: 0.0009059612248595759\n",
      "step: 200, acc: 0.875, loss: 0.264 (data_loss: 0.264, reg_loss: 0.000), lr: 0.0008978272580355541\n",
      "step: 300, acc: 0.875, loss: 0.274 (data_loss: 0.274, reg_loss: 0.000), lr: 0.0008898380494749957\n",
      "step: 400, acc: 0.922, loss: 0.270 (data_loss: 0.270, reg_loss: 0.000), lr: 0.0008819897689186807\n",
      "step: 468, acc: 0.917, loss: 0.440 (data_loss: 0.440, reg_loss: 0.000), lr: 0.000876731544800982\n",
      "training, acc: 0.880, loss: 0.327 (data_loss: 0.327, reg_loss: 0.000), lr: 0.000876731544800982\n",
      "validation, acc: 0.870, loss: 0.361\n",
      "epoch: 4\n",
      "step: 0, acc: 0.883, loss: 0.351 (data_loss: 0.351, reg_loss: 0.000), lr: 0.0008766546857192952\n",
      "step: 100, acc: 0.867, loss: 0.272 (data_loss: 0.272, reg_loss: 0.000), lr: 0.0008690362388111585\n",
      "step: 200, acc: 0.930, loss: 0.223 (data_loss: 0.223, reg_loss: 0.000), lr: 0.0008615490652192642\n",
      "step: 300, acc: 0.906, loss: 0.254 (data_loss: 0.254, reg_loss: 0.000), lr: 0.0008541898009737763\n",
      "step: 400, acc: 0.914, loss: 0.255 (data_loss: 0.255, reg_loss: 0.000), lr: 0.0008469551960701278\n",
      "step: 468, acc: 0.927, loss: 0.442 (data_loss: 0.442, reg_loss: 0.000), lr: 0.0008421052631578947\n",
      "training, acc: 0.890, loss: 0.303 (data_loss: 0.303, reg_loss: 0.000), lr: 0.0008421052631578947\n",
      "validation, acc: 0.874, loss: 0.352\n",
      "epoch: 5\n",
      "step: 0, acc: 0.906, loss: 0.320 (data_loss: 0.320, reg_loss: 0.000), lr: 0.0008420343550016842\n",
      "step: 100, acc: 0.875, loss: 0.249 (data_loss: 0.249, reg_loss: 0.000), lr: 0.0008350033400133601\n",
      "step: 200, acc: 0.922, loss: 0.224 (data_loss: 0.224, reg_loss: 0.000), lr: 0.0008280887711162637\n",
      "step: 300, acc: 0.906, loss: 0.234 (data_loss: 0.234, reg_loss: 0.000), lr: 0.0008212877792378449\n",
      "step: 400, acc: 0.898, loss: 0.237 (data_loss: 0.237, reg_loss: 0.000), lr: 0.0008145975887911372\n",
      "step: 468, acc: 0.927, loss: 0.439 (data_loss: 0.439, reg_loss: 0.000), lr: 0.0008101101749837978\n",
      "training, acc: 0.896, loss: 0.283 (data_loss: 0.283, reg_loss: 0.000), lr: 0.0008101101749837978\n",
      "validation, acc: 0.878, loss: 0.348\n",
      "epoch: 6\n",
      "step: 0, acc: 0.922, loss: 0.297 (data_loss: 0.297, reg_loss: 0.000), lr: 0.0008100445524503849\n",
      "step: 100, acc: 0.875, loss: 0.246 (data_loss: 0.246, reg_loss: 0.000), lr: 0.0008035355564483729\n",
      "step: 200, acc: 0.914, loss: 0.222 (data_loss: 0.222, reg_loss: 0.000), lr: 0.0007971303308090873\n",
      "step: 300, acc: 0.938, loss: 0.221 (data_loss: 0.221, reg_loss: 0.000), lr: 0.0007908264136022144\n",
      "step: 400, acc: 0.914, loss: 0.231 (data_loss: 0.231, reg_loss: 0.000), lr: 0.0007846214201647706\n",
      "step: 468, acc: 0.917, loss: 0.413 (data_loss: 0.413, reg_loss: 0.000), lr: 0.0007804573480059316\n",
      "training, acc: 0.903, loss: 0.265 (data_loss: 0.265, reg_loss: 0.000), lr: 0.0007804573480059316\n",
      "validation, acc: 0.878, loss: 0.347\n",
      "epoch: 7\n",
      "step: 0, acc: 0.922, loss: 0.273 (data_loss: 0.273, reg_loss: 0.000), lr: 0.0007803964413922272\n",
      "step: 100, acc: 0.898, loss: 0.229 (data_loss: 0.229, reg_loss: 0.000), lr: 0.0007743534148985598\n",
      "step: 200, acc: 0.906, loss: 0.216 (data_loss: 0.216, reg_loss: 0.000), lr: 0.0007684032580298141\n",
      "step: 300, acc: 0.930, loss: 0.204 (data_loss: 0.204, reg_loss: 0.000), lr: 0.0007625438462711606\n",
      "step: 400, acc: 0.930, loss: 0.226 (data_loss: 0.226, reg_loss: 0.000), lr: 0.0007567731194187983\n",
      "step: 468, acc: 0.917, loss: 0.392 (data_loss: 0.392, reg_loss: 0.000), lr: 0.0007528986598403856\n",
      "training, acc: 0.908, loss: 0.251 (data_loss: 0.251, reg_loss: 0.000), lr: 0.0007528986598403856\n",
      "validation, acc: 0.879, loss: 0.347\n",
      "epoch: 8\n",
      "step: 0, acc: 0.938, loss: 0.249 (data_loss: 0.249, reg_loss: 0.000), lr: 0.0007528419784687194\n",
      "step: 100, acc: 0.898, loss: 0.229 (data_loss: 0.229, reg_loss: 0.000), lr: 0.0007472166180975864\n",
      "step: 200, acc: 0.922, loss: 0.194 (data_loss: 0.194, reg_loss: 0.000), lr: 0.0007416747014759327\n",
      "step: 300, acc: 0.914, loss: 0.202 (data_loss: 0.202, reg_loss: 0.000), lr: 0.0007362143856290952\n",
      "step: 400, acc: 0.945, loss: 0.218 (data_loss: 0.218, reg_loss: 0.000), lr: 0.0007308338814587444\n",
      "step: 468, acc: 0.917, loss: 0.372 (data_loss: 0.372, reg_loss: 0.000), lr: 0.0007272198385571959\n",
      "training, acc: 0.913, loss: 0.236 (data_loss: 0.236, reg_loss: 0.000), lr: 0.0007272198385571959\n",
      "validation, acc: 0.881, loss: 0.345\n",
      "epoch: 9\n",
      "step: 0, acc: 0.938, loss: 0.229 (data_loss: 0.229, reg_loss: 0.000), lr: 0.0007271669575334498\n",
      "step: 100, acc: 0.906, loss: 0.238 (data_loss: 0.238, reg_loss: 0.000), lr: 0.000721917412647993\n",
      "step: 200, acc: 0.938, loss: 0.185 (data_loss: 0.185, reg_loss: 0.000), lr: 0.0007167431192660551\n",
      "step: 300, acc: 0.922, loss: 0.194 (data_loss: 0.194, reg_loss: 0.000), lr: 0.0007116424708226587\n",
      "step: 400, acc: 0.945, loss: 0.215 (data_loss: 0.215, reg_loss: 0.000), lr: 0.0007066139061616733\n",
      "step: 468, acc: 0.927, loss: 0.348 (data_loss: 0.348, reg_loss: 0.000), lr: 0.0007032348804500702\n",
      "training, acc: 0.918, loss: 0.223 (data_loss: 0.223, reg_loss: 0.000), lr: 0.0007032348804500702\n",
      "validation, acc: 0.881, loss: 0.348\n",
      "epoch: 10\n",
      "step: 0, acc: 0.930, loss: 0.217 (data_loss: 0.217, reg_loss: 0.000), lr: 0.0007031854299978904\n",
      "step: 100, acc: 0.898, loss: 0.219 (data_loss: 0.219, reg_loss: 0.000), lr: 0.0006982752601075343\n",
      "step: 200, acc: 0.938, loss: 0.173 (data_loss: 0.173, reg_loss: 0.000), lr: 0.000693433187712364\n",
      "step: 300, acc: 0.938, loss: 0.176 (data_loss: 0.176, reg_loss: 0.000), lr: 0.0006886578059362303\n",
      "step: 400, acc: 0.945, loss: 0.197 (data_loss: 0.197, reg_loss: 0.000), lr: 0.0006839477463921757\n",
      "step: 468, acc: 0.917, loss: 0.352 (data_loss: 0.352, reg_loss: 0.000), lr: 0.000680781537204711\n",
      "training, acc: 0.923, loss: 0.211 (data_loss: 0.211, reg_loss: 0.000), lr: 0.000680781537204711\n",
      "validation, acc: 0.880, loss: 0.352\n"
     ]
    }
   ],
   "source": [
    "# Add layers\n",
    "model.add(Layer_Dense(X.shape[1], 128))\n",
    "model.add(Activation_ReLU())\n",
    "model.add(Layer_Dense(128, 128))\n",
    "model.add(Activation_ReLU())\n",
    "model.add(Layer_Dense(128, 10))\n",
    "model.add(Activation_Softmax())\n",
    "# Set loss, optimizer and accuracy objects\n",
    "model.set(\n",
    "loss=Loss_CategoricalCrossentropy(),\n",
    "optimizer=Optimizer_Adam(decay=1e-4),\n",
    "accuracy=Accuracy_Categorical()\n",
    ")\n",
    "# Finalize the model\n",
    "model.finalize()\n",
    "# Train the model\n",
    "model.train(X, y, validation_data=(X_test, y_test),\n",
    "epochs=10, batch_size=128, print_every=100)"
   ]
  }
 ],
 "metadata": {
  "kernelspec": {
   "display_name": "Python 3 (ipykernel)",
   "language": "python",
   "name": "python3"
  },
  "language_info": {
   "codemirror_mode": {
    "name": "ipython",
    "version": 3
   },
   "file_extension": ".py",
   "mimetype": "text/x-python",
   "name": "python",
   "nbconvert_exporter": "python",
   "pygments_lexer": "ipython3",
   "version": "3.10.16"
  }
 },
 "nbformat": 4,
 "nbformat_minor": 5
}
