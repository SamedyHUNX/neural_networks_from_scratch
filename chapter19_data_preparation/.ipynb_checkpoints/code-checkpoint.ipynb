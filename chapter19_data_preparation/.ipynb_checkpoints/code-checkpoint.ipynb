{
 "cells": [
  {
   "cell_type": "markdown",
   "id": "9a67de95-2f94-454c-9079-d68a3e3b38ec",
   "metadata": {},
   "source": [
    "# Chapter XIX: A Real Dataset"
   ]
  },
  {
   "cell_type": "code",
   "execution_count": 1,
   "id": "9b193f37-e229-4c18-b881-bf61fe2778cb",
   "metadata": {},
   "outputs": [],
   "source": [
    "URL = 'https://nnfs.io/datasets/fashion_mnist_images.zip'\n",
    "FILE = 'fashion_mnist_images.zip'\n",
    "FOLDER = 'fashion_mnist_images'"
   ]
  },
  {
   "cell_type": "code",
   "execution_count": 2,
   "id": "e72de511-08d1-4335-8f37-3fd897cd160a",
   "metadata": {},
   "outputs": [],
   "source": [
    "import sys, os\n",
    "\n",
    "# Go up one directory and into 'notebooks'\n",
    "sys.path.append(os.path.abspath('../modules'))\n",
    "\n",
    "import numpy as np\n",
    "from model import Model\n",
    "from layers import Layer_Dense, Layer_Dropout\n",
    "from activation_functions import Activation_ReLU, Activation_Linear, Activation_Softmax\n",
    "from losses import Loss_MeanSquaredError, Loss_CategoricalCrossentropy\n",
    "from optimizers import Optimizer_Adam\n",
    "from accuracy import Accuracy_Regression, Accuracy_Categorical"
   ]
  },
  {
   "cell_type": "code",
   "execution_count": 3,
   "id": "3426e151-3b02-43ac-a3fe-b1d8e6af767f",
   "metadata": {},
   "outputs": [],
   "source": [
    "import os\n",
    "import urllib\n",
    "import urllib.request\n",
    "if not os.path.isfile(FILE):\n",
    "    print(f'Downloading {URL} and saving as {FILE}...')\n",
    "    urllib.request.urlretrieve(URL, FILE)"
   ]
  },
  {
   "cell_type": "code",
   "execution_count": 4,
   "id": "cefba450-1982-4c7f-b330-3d5123de6a9b",
   "metadata": {},
   "outputs": [
    {
     "name": "stdout",
     "output_type": "stream",
     "text": [
      "Unzipping images...\n",
      "Done\n"
     ]
    }
   ],
   "source": [
    "from zipfile import ZipFile\n",
    "print('Unzipping images...')\n",
    "with ZipFile(FILE) as zip_images:\n",
    "    zip_images.extractall(FOLDER)\n",
    "print('Done')"
   ]
  },
  {
   "cell_type": "code",
   "execution_count": 5,
   "id": "7301d3b6-cd5f-45c2-83a1-5d7180010205",
   "metadata": {},
   "outputs": [
    {
     "name": "stdout",
     "output_type": "stream",
     "text": [
      "['9', '0', '7', '6', '1', '8', '4', '3', '2', '5']\n"
     ]
    }
   ],
   "source": [
    "import os\n",
    "labels = os.listdir('fashion_mnist_images/train')\n",
    "print(labels)"
   ]
  },
  {
   "cell_type": "code",
   "execution_count": 6,
   "id": "87916aa4-a55f-4645-b0b5-1c762e9a6edb",
   "metadata": {},
   "outputs": [
    {
     "name": "stdout",
     "output_type": "stream",
     "text": [
      "['3975.png', '1804.png', '4968.png', '1810.png', '3961.png', '0298.png', '1186.png', '3949.png', '3791.png', '4798.png']\n",
      "6000\n"
     ]
    }
   ],
   "source": [
    "files = os.listdir('fashion_mnist_images/train/0')\n",
    "print(files[:10])\n",
    "print(len(files))"
   ]
  },
  {
   "cell_type": "code",
   "execution_count": 7,
   "id": "6e9c5031-0357-456b-bbe2-22036371097b",
   "metadata": {},
   "outputs": [],
   "source": [
    "# !pip install opencv-python"
   ]
  },
  {
   "cell_type": "code",
   "execution_count": 8,
   "id": "022eda2a-aa02-431d-bbbf-1b2e54729390",
   "metadata": {},
   "outputs": [],
   "source": [
    "import numpy as np\n",
    "np.set_printoptions(linewidth=200)"
   ]
  },
  {
   "cell_type": "code",
   "execution_count": 9,
   "id": "224959e5-cf76-4e0c-9e3f-68ce0a7b08d9",
   "metadata": {},
   "outputs": [
    {
     "name": "stdout",
     "output_type": "stream",
     "text": [
      "[[  0   0   0   0   0   0   0   0   0   0   0   0   0   0   0   0   0   0   0   0   0   0   0   0   0   0   0   0]\n",
      " [  0   0   0   0   0   0   0   0   0   0   0   0   0   0   0   0   0   0   0   0   0   0   0   0   0   0   0   0]\n",
      " [  0   0   0   0   0   0   0   0   0   0   0   0   0   0   0   0   0   0   0   0   0   0   0   0   0   0   0   0]\n",
      " [  0   0   0   0   0   0   0   0   0   0   0   0   0   0   0   0   0   0   0   0   0   0   0   0   0   0   0   0]\n",
      " [  0   0   0   0   0   0   0   0   0   0   0   0   0   0   0   0   0   0   0   0   0   0   0   0   0   0   0   0]\n",
      " [  0   0   0   0   0   0   0   0   0   0   0   0   0   0   0   0   0   0   0   0   0   0   0   0   0   0   0   0]\n",
      " [  0   0   0   0   0   0   0   0   0   0   0   0   0   0   0   0   0   0   0   0   0   0   0   0   0   0   0   0]\n",
      " [  0   0   0   0   0   0   0   0   0   0   0   0   0   1   0   0   0  49 135 182 150  59   0   0   0   0   0   0]\n",
      " [  0   0   0   0   0   0   0   0   0   0   0   0   0   0   0   0  78 255 220 212 219 255 246 191 155  87   0   0]\n",
      " [  0   0   0   0   0   0   0   0   0   0   0   0   1   0   0  57 206 215 203 191 203 212 216 217 220 211  15   0]\n",
      " [  0   0   0   0   0   0   0   0   0   0   1   0   0   0  58 231 220 210 199 209 218 218 217 208 200 215  56   0]\n",
      " [  0   0   0   0   1   2   0   0   4   0   0   0   0 145 213 207 199 187 203 210 216 217 215 215 206 215 130   0]\n",
      " [  0   0   0   0   1   2   4   0   0   0   3 105 225 205 190 201 210 214 213 215 215 212 211 208 205 207 218   0]\n",
      " [  1   5   7   0   0   0   0   0  52 162 217 189 174 157 187 198 202 217 220 223 224 222 217 211 217 201 247  65]\n",
      " [  0   0   0   0   0   0  21  72 185 189 171 171 185 203 200 207 208 209 214 219 222 222 224 215 218 211 212 148]\n",
      " [  0  70 114 129 145 159 179 196 172 176 185 196 199 206 201 210 212 213 216 218 219 217 212 207 208 200 198 173]\n",
      " [  0 122 158 184 194 192 193 196 203 209 211 211 215 218 221 222 226 227 227 226 226 223 222 216 211 208 216 185]\n",
      " [ 21   0   0  12  48  82 123 152 170 184 195 211 225 232 233 237 242 242 240 240 238 236 222 209 200 193 185 106]\n",
      " [ 26  47  54  18   5   0   0   0   0   0   0   0   0   0   2   4   6   9   9   8   9   6   6   4   2   0   0   0]\n",
      " [  0  10  27  45  55  59  57  50  44  51  58  62  65  56  54  57  59  61  60  63  68  67  66  73  77  74  65  39]\n",
      " [  0   0   0   0   4   9  18  23  26  25  23  25  29  37  38  37  39  36  29  31  33  34  28  24  20  14   7   0]\n",
      " [  0   0   0   0   0   0   0   0   0   0   0   0   0   0   0   0   0   0   0   0   0   0   0   0   0   0   0   0]\n",
      " [  0   0   0   0   0   0   0   0   0   0   0   0   0   0   0   0   0   0   0   0   0   0   0   0   0   0   0   0]\n",
      " [  0   0   0   0   0   0   0   0   0   0   0   0   0   0   0   0   0   0   0   0   0   0   0   0   0   0   0   0]\n",
      " [  0   0   0   0   0   0   0   0   0   0   0   0   0   0   0   0   0   0   0   0   0   0   0   0   0   0   0   0]\n",
      " [  0   0   0   0   0   0   0   0   0   0   0   0   0   0   0   0   0   0   0   0   0   0   0   0   0   0   0   0]\n",
      " [  0   0   0   0   0   0   0   0   0   0   0   0   0   0   0   0   0   0   0   0   0   0   0   0   0   0   0   0]\n",
      " [  0   0   0   0   0   0   0   0   0   0   0   0   0   0   0   0   0   0   0   0   0   0   0   0   0   0   0   0]]\n"
     ]
    }
   ],
   "source": [
    "import cv2\n",
    "image_data = cv2.imread('fashion_mnist_images/train/7/0002.png',\n",
    "cv2.IMREAD_UNCHANGED)\n",
    "print(image_data)"
   ]
  },
  {
   "cell_type": "code",
   "execution_count": 10,
   "id": "a2f0d27e-5e05-434f-9d47-3ce15df83a32",
   "metadata": {},
   "outputs": [
    {
     "data": {
      "image/png": "[encoded data removed]",
      "text/plain": [
       "<Figure size 640x480 with 1 Axes>"
      ]
     },
     "metadata": {},
     "output_type": "display_data"
    }
   ],
   "source": [
    "import matplotlib.pyplot as plt\n",
    "image_data = cv2.imread('fashion_mnist_images/train/4/0011.png',\n",
    "cv2.IMREAD_UNCHANGED)\n",
    "plt.imshow(image_data)\n",
    "plt.show()"
   ]
  },
  {
   "cell_type": "code",
   "execution_count": 11,
   "id": "27dae477-7458-43e9-b3b7-f1888c578b63",
   "metadata": {},
   "outputs": [
    {
     "data": {
      "image/png": "[encoded data removed]",
      "text/plain": [
       "<Figure size 640x480 with 1 Axes>"
      ]
     },
     "metadata": {},
     "output_type": "display_data"
    }
   ],
   "source": [
    "import matplotlib.pyplot as plt\n",
    "image_data = cv2.imread('fashion_mnist_images/train/4/0011.png',\n",
    "cv2.IMREAD_UNCHANGED)\n",
    "plt.imshow(image_data, cmap='gray')\n",
    "plt.show()"
   ]
  },
  {
   "cell_type": "code",
   "execution_count": 12,
   "id": "8615c0b1-09e5-4616-a936-d7f2d5b20fef",
   "metadata": {},
   "outputs": [],
   "source": [
    "# Scan all the directories and create a list of labels\n",
    "labels = os.listdir('fashion_mnist_images/train')\n",
    "# Create lists for samples and labels\n",
    "X = []\n",
    "y = []\n",
    "# For each label folder\n",
    "for label in labels:\n",
    "    # And for each image in given folder\n",
    "    for file in os.listdir(os.path.join(\n",
    "    'fashion_mnist_images', 'train', label\n",
    "    )):\n",
    "        # Read the image\n",
    "        image = cv2.imread(os.path.join(\n",
    "        'fashion_mnist_images/train', label, file\n",
    "        ), cv2.IMREAD_UNCHANGED)\n",
    "        # And append it and a label to the lists\n",
    "        X.append(image)\n",
    "        y.append(label)"
   ]
  },
  {
   "cell_type": "code",
   "execution_count": 13,
   "id": "a6c1a4e8-a12c-4cf1-94c9-a7fd1a32ffa2",
   "metadata": {},
   "outputs": [],
   "source": [
    "import numpy as np\n",
    "import cv2\n",
    "import os\n",
    "\n",
    "# Loads an MNIST dataset\n",
    "def load_mnist_dataset(dataset, path):\n",
    "    # Scan all the directories and create a list of labels\n",
    "    labels = os.listdir(os.path.join(path, dataset))\n",
    "\n",
    "    # Create lists for samples and labels\n",
    "    X = []\n",
    "    y = []\n",
    "\n",
    "    # For each label folder\n",
    "    for label in labels:\n",
    "        # And for each image in given folder\n",
    "        for file in os.listdir(os.path.join(path, dataset, label)):\n",
    "            # Read the image\n",
    "            image = cv2.imread(\n",
    "                os.path.join(path, dataset, label, file),\n",
    "                cv2.IMREAD_UNCHANGED\n",
    "            )\n",
    "            # And append it and a label to the lists\n",
    "            X.append(image)\n",
    "            y.append(label)\n",
    "\n",
    "    # Convert the data to proper numpy arrays and return\n",
    "    return np.array(X), np.array(y).astype('uint8')\n"
   ]
  },
  {
   "cell_type": "code",
   "execution_count": 14,
   "id": "e6c03a93-f069-4388-bf5b-ff80cd61b460",
   "metadata": {},
   "outputs": [],
   "source": [
    "# MNIST dataset (train + test)\n",
    "def create_data_mnist(path):\n",
    "    # Load both sets separately\n",
    "    X, y = load_mnist_dataset('train', path)\n",
    "    X_test, y_test = load_mnist_dataset('test', path)\n",
    "    # And return all the data\n",
    "    return X, y, X_test, y_test"
   ]
  },
  {
   "cell_type": "code",
   "execution_count": 15,
   "id": "a37fc3ec-93f0-42c7-b287-ab380d393217",
   "metadata": {},
   "outputs": [],
   "source": [
    "X, y, X_test, y_test = create_data_mnist('fashion_mnist_images')"
   ]
  },
  {
   "cell_type": "code",
   "execution_count": 16,
   "id": "e93a54db-bd0d-4439-b974-dfc6669a4bd4",
   "metadata": {},
   "outputs": [],
   "source": [
    "# Scale features\n",
    "X = (X.astype(np.float32) - 127.5) / 127.5\n",
    "X_test = (X_test.astype(np.float32) - 127.5) / 127.5"
   ]
  },
  {
   "cell_type": "code",
   "execution_count": 17,
   "id": "ad51422c-d16f-4de5-a3c4-8dc883df4007",
   "metadata": {},
   "outputs": [
    {
     "name": "stdout",
     "output_type": "stream",
     "text": [
      "-1.0 1.0\n"
     ]
    }
   ],
   "source": [
    "print(X.min(), X.max())"
   ]
  },
  {
   "cell_type": "code",
   "execution_count": 18,
   "id": "a1d40869-53db-424e-835e-d472d36d6318",
   "metadata": {},
   "outputs": [],
   "source": [
    "# Reshape to vectors\n",
    "X = X.reshape(X.shape[0], -1)\n",
    "X_test = X_test.reshape(X_test.shape[0], -1)"
   ]
  },
  {
   "cell_type": "code",
   "execution_count": 19,
   "id": "6e0d039c-5305-43e7-b948-6ea21aab88b9",
   "metadata": {},
   "outputs": [
    {
     "name": "stdout",
     "output_type": "stream",
     "text": [
      "[0 1 2 3 4 5 6 7 8 9]\n"
     ]
    }
   ],
   "source": [
    "keys = np.array(range(X.shape[0]))\n",
    "print(keys[:10])"
   ]
  },
  {
   "cell_type": "code",
   "execution_count": 20,
   "id": "48d88740-fa0e-4db7-a83c-8bf388c035ac",
   "metadata": {},
   "outputs": [
    {
     "name": "stdout",
     "output_type": "stream",
     "text": [
      "[ 3048 19563 58303  8870 40228 31488 21860 56864   845 25770]\n"
     ]
    }
   ],
   "source": [
    "import nnfs\n",
    "nnfs.init()\n",
    "np.random.shuffle(keys)\n",
    "print(keys[:10])\n",
    "\n",
    "X = X[keys]\n",
    "y = y[keys]"
   ]
  },
  {
   "cell_type": "code",
   "execution_count": 21,
   "id": "ca22e93c-233a-485e-8137-3e78adaab3f6",
   "metadata": {},
   "outputs": [],
   "source": [
    "X = X[keys]\n",
    "y = y[keys]"
   ]
  },
  {
   "cell_type": "code",
   "execution_count": 22,
   "id": "0966deaa-4574-4c58-a0fa-7718858df80e",
   "metadata": {},
   "outputs": [
    {
     "data": {
      "image/png": "[encoded data removed]",
      "text/plain": [
       "<Figure size 640x480 with 1 Axes>"
      ]
     },
     "metadata": {},
     "output_type": "display_data"
    }
   ],
   "source": [
    "import matplotlib.pyplot as plt\n",
    "plt.imshow((X[4].reshape(28, 28)))\n",
    "plt.show()"
   ]
  },
  {
   "cell_type": "code",
   "execution_count": 23,
   "id": "f50891b0-c0e4-4e7c-b47c-6af794cb9ecf",
   "metadata": {},
   "outputs": [],
   "source": [
    "import nnfs\n",
    "from nnfs.datasets import spiral_data\n",
    "nnfs.init()\n",
    "# Create dataset\n",
    "X, y = spiral_data(samples=100, classes=3)\n",
    "EPOCHS = 10\n",
    "BATCH_SIZE = 128 # We take 128 samples at once\n",
    "# Calculate number of steps\n",
    "steps = X.shape[0] // BATCH_SIZE\n",
    "# Dividing rounds down. If there are some remaining data,\n",
    "# but not a full batch, this won't include it.\n",
    "# Add 1 to include the remaining samples in 1 more step.\n",
    "if steps * BATCH_SIZE < X.shape[0]:\n",
    "    steps += 1\n",
    "\n",
    "for epoch in range(EPOCHS):\n",
    "    for step in range(steps):\n",
    "        batch_X = X[step*BATCH_SIZE:(step+1)*BATCH_SIZE]\n",
    "        batch_y = y[step*BATCH_SIZE:(step+1)*BATCH_SIZE]\n",
    "        # Now we perform forward pass, loss calculation,\n",
    "        # backward pass and update parameters"
   ]
  },
  {
   "cell_type": "code",
   "execution_count": 24,
   "id": "ba1e5fec-e915-4cae-a9f7-cb3f2df1b68e",
   "metadata": {},
   "outputs": [],
   "source": [
    "# Create dataset\n",
    "X, y, X_test, y_test = create_data_mnist('fashion_mnist_images')\n",
    "# Shuffle the training dataset\n",
    "keys = np.array(range(X.shape[0]))\n",
    "np.random.shuffle(keys)\n",
    "X = X[keys]\n",
    "y = y[keys]\n",
    "# Scale and reshape samples\n",
    "X = (X.reshape(X.shape[0], -1).astype(np.float32) - 127.5) / 127.5\n",
    "X_test = (X_test.reshape(X_test.shape[0], -1).astype(np.float32) -\n",
    "127.5) / 127.5\n",
    "# Instantiate the model\n",
    "model = Model()"
   ]
  },
  {
   "cell_type": "code",
   "execution_count": 25,
   "id": "56bccc8c-c736-4f9c-a1e4-01c7ee88de78",
   "metadata": {},
   "outputs": [
    {
     "name": "stdout",
     "output_type": "stream",
     "text": [
      "epoch: 1\n",
      "step: 0, acc: 0.133, loss: 2.818 (data_loss: 2.818, reg_loss: 0.000), lr: 0.001\n",
      "step: 100, acc: 0.805, loss: 0.482 (data_loss: 0.482, reg_loss: 0.000), lr: 0.0009900990099009901\n",
      "step: 200, acc: 0.820, loss: 0.524 (data_loss: 0.524, reg_loss: 0.000), lr: 0.000980392156862745\n",
      "step: 300, acc: 0.836, loss: 0.397 (data_loss: 0.397, reg_loss: 0.000), lr: 0.0009708737864077671\n",
      "step: 400, acc: 0.828, loss: 0.460 (data_loss: 0.460, reg_loss: 0.000), lr: 0.0009615384615384615\n",
      "step: 468, acc: 0.927, loss: 0.313 (data_loss: 0.313, reg_loss: 0.000), lr: 0.0009552923194497518\n",
      "training, acc: 0.817, loss: 0.505 (data_loss: 0.505, reg_loss: 0.000), lr: 0.0009552923194497518\n",
      "validation, acc: 0.850, loss: 0.418\n",
      "epoch: 2\n",
      "step: 0, acc: 0.852, loss: 0.383 (data_loss: 0.383, reg_loss: 0.000), lr: 0.0009552010698251983\n",
      "step: 100, acc: 0.883, loss: 0.312 (data_loss: 0.312, reg_loss: 0.000), lr: 0.0009461633077869241\n",
      "step: 200, acc: 0.828, loss: 0.469 (data_loss: 0.469, reg_loss: 0.000), lr: 0.0009372949667260287\n",
      "step: 300, acc: 0.922, loss: 0.289 (data_loss: 0.289, reg_loss: 0.000), lr: 0.0009285913269570063\n",
      "step: 400, acc: 0.852, loss: 0.424 (data_loss: 0.424, reg_loss: 0.000), lr: 0.0009200478424878093\n",
      "step: 468, acc: 0.927, loss: 0.259 (data_loss: 0.259, reg_loss: 0.000), lr: 0.0009143275121148394\n",
      "training, acc: 0.865, loss: 0.368 (data_loss: 0.368, reg_loss: 0.000), lr: 0.0009143275121148394\n",
      "validation, acc: 0.854, loss: 0.399\n",
      "epoch: 3\n",
      "step: 0, acc: 0.852, loss: 0.376 (data_loss: 0.376, reg_loss: 0.000), lr: 0.0009142439202779302\n",
      "step: 100, acc: 0.906, loss: 0.256 (data_loss: 0.256, reg_loss: 0.000), lr: 0.0009059612248595759\n",
      "step: 200, acc: 0.859, loss: 0.425 (data_loss: 0.425, reg_loss: 0.000), lr: 0.0008978272580355541\n",
      "step: 300, acc: 0.922, loss: 0.270 (data_loss: 0.270, reg_loss: 0.000), lr: 0.0008898380494749957\n",
      "step: 400, acc: 0.859, loss: 0.379 (data_loss: 0.379, reg_loss: 0.000), lr: 0.0008819897689186807\n",
      "step: 468, acc: 0.927, loss: 0.236 (data_loss: 0.236, reg_loss: 0.000), lr: 0.000876731544800982\n",
      "training, acc: 0.878, loss: 0.329 (data_loss: 0.329, reg_loss: 0.000), lr: 0.000876731544800982\n",
      "validation, acc: 0.866, loss: 0.376\n",
      "epoch: 4\n",
      "step: 0, acc: 0.836, loss: 0.348 (data_loss: 0.348, reg_loss: 0.000), lr: 0.0008766546857192952\n",
      "step: 100, acc: 0.898, loss: 0.245 (data_loss: 0.245, reg_loss: 0.000), lr: 0.0008690362388111585\n",
      "step: 200, acc: 0.859, loss: 0.379 (data_loss: 0.379, reg_loss: 0.000), lr: 0.0008615490652192642\n",
      "step: 300, acc: 0.922, loss: 0.244 (data_loss: 0.244, reg_loss: 0.000), lr: 0.0008541898009737763\n",
      "step: 400, acc: 0.883, loss: 0.321 (data_loss: 0.321, reg_loss: 0.000), lr: 0.0008469551960701278\n",
      "step: 468, acc: 0.927, loss: 0.225 (data_loss: 0.225, reg_loss: 0.000), lr: 0.0008421052631578947\n",
      "training, acc: 0.887, loss: 0.302 (data_loss: 0.302, reg_loss: 0.000), lr: 0.0008421052631578947\n",
      "validation, acc: 0.868, loss: 0.369\n",
      "epoch: 5\n",
      "step: 0, acc: 0.875, loss: 0.321 (data_loss: 0.321, reg_loss: 0.000), lr: 0.0008420343550016842\n",
      "step: 100, acc: 0.906, loss: 0.204 (data_loss: 0.204, reg_loss: 0.000), lr: 0.0008350033400133601\n",
      "step: 200, acc: 0.852, loss: 0.346 (data_loss: 0.346, reg_loss: 0.000), lr: 0.0008280887711162637\n",
      "step: 300, acc: 0.945, loss: 0.211 (data_loss: 0.211, reg_loss: 0.000), lr: 0.0008212877792378449\n",
      "step: 400, acc: 0.891, loss: 0.287 (data_loss: 0.287, reg_loss: 0.000), lr: 0.0008145975887911372\n",
      "step: 468, acc: 0.927, loss: 0.229 (data_loss: 0.229, reg_loss: 0.000), lr: 0.0008101101749837978\n",
      "training, acc: 0.896, loss: 0.281 (data_loss: 0.281, reg_loss: 0.000), lr: 0.0008101101749837978\n",
      "validation, acc: 0.871, loss: 0.361\n",
      "epoch: 6\n",
      "step: 0, acc: 0.898, loss: 0.305 (data_loss: 0.305, reg_loss: 0.000), lr: 0.0008100445524503849\n",
      "step: 100, acc: 0.914, loss: 0.200 (data_loss: 0.200, reg_loss: 0.000), lr: 0.0008035355564483729\n",
      "step: 200, acc: 0.867, loss: 0.340 (data_loss: 0.340, reg_loss: 0.000), lr: 0.0007971303308090873\n",
      "step: 300, acc: 0.938, loss: 0.191 (data_loss: 0.191, reg_loss: 0.000), lr: 0.0007908264136022144\n",
      "step: 400, acc: 0.914, loss: 0.247 (data_loss: 0.247, reg_loss: 0.000), lr: 0.0007846214201647706\n",
      "step: 468, acc: 0.917, loss: 0.212 (data_loss: 0.212, reg_loss: 0.000), lr: 0.0007804573480059316\n",
      "training, acc: 0.902, loss: 0.263 (data_loss: 0.263, reg_loss: 0.000), lr: 0.0007804573480059316\n",
      "validation, acc: 0.873, loss: 0.355\n",
      "epoch: 7\n",
      "step: 0, acc: 0.898, loss: 0.286 (data_loss: 0.286, reg_loss: 0.000), lr: 0.0007803964413922272\n",
      "step: 100, acc: 0.914, loss: 0.187 (data_loss: 0.187, reg_loss: 0.000), lr: 0.0007743534148985598\n",
      "step: 200, acc: 0.883, loss: 0.307 (data_loss: 0.307, reg_loss: 0.000), lr: 0.0007684032580298141\n",
      "step: 300, acc: 0.930, loss: 0.187 (data_loss: 0.187, reg_loss: 0.000), lr: 0.0007625438462711606\n",
      "step: 400, acc: 0.914, loss: 0.231 (data_loss: 0.231, reg_loss: 0.000), lr: 0.0007567731194187983\n",
      "step: 468, acc: 0.917, loss: 0.214 (data_loss: 0.214, reg_loss: 0.000), lr: 0.0007528986598403856\n",
      "training, acc: 0.907, loss: 0.248 (data_loss: 0.248, reg_loss: 0.000), lr: 0.0007528986598403856\n",
      "validation, acc: 0.875, loss: 0.349\n",
      "epoch: 8\n",
      "step: 0, acc: 0.906, loss: 0.271 (data_loss: 0.271, reg_loss: 0.000), lr: 0.0007528419784687194\n",
      "step: 100, acc: 0.945, loss: 0.176 (data_loss: 0.176, reg_loss: 0.000), lr: 0.0007472166180975864\n",
      "step: 200, acc: 0.867, loss: 0.298 (data_loss: 0.298, reg_loss: 0.000), lr: 0.0007416747014759327\n",
      "step: 300, acc: 0.945, loss: 0.167 (data_loss: 0.167, reg_loss: 0.000), lr: 0.0007362143856290952\n",
      "step: 400, acc: 0.914, loss: 0.214 (data_loss: 0.214, reg_loss: 0.000), lr: 0.0007308338814587444\n",
      "step: 468, acc: 0.927, loss: 0.210 (data_loss: 0.210, reg_loss: 0.000), lr: 0.0007272198385571959\n",
      "training, acc: 0.913, loss: 0.234 (data_loss: 0.234, reg_loss: 0.000), lr: 0.0007272198385571959\n",
      "validation, acc: 0.877, loss: 0.349\n",
      "epoch: 9\n",
      "step: 0, acc: 0.906, loss: 0.254 (data_loss: 0.254, reg_loss: 0.000), lr: 0.0007271669575334498\n",
      "step: 100, acc: 0.930, loss: 0.171 (data_loss: 0.171, reg_loss: 0.000), lr: 0.000721917412647993\n",
      "step: 200, acc: 0.898, loss: 0.278 (data_loss: 0.278, reg_loss: 0.000), lr: 0.0007167431192660551\n",
      "step: 300, acc: 0.953, loss: 0.162 (data_loss: 0.162, reg_loss: 0.000), lr: 0.0007116424708226587\n",
      "step: 400, acc: 0.914, loss: 0.199 (data_loss: 0.199, reg_loss: 0.000), lr: 0.0007066139061616733\n",
      "step: 468, acc: 0.927, loss: 0.196 (data_loss: 0.196, reg_loss: 0.000), lr: 0.0007032348804500702\n",
      "training, acc: 0.918, loss: 0.221 (data_loss: 0.221, reg_loss: 0.000), lr: 0.0007032348804500702\n",
      "validation, acc: 0.878, loss: 0.346\n",
      "epoch: 10\n",
      "step: 0, acc: 0.914, loss: 0.234 (data_loss: 0.234, reg_loss: 0.000), lr: 0.0007031854299978904\n",
      "step: 100, acc: 0.953, loss: 0.164 (data_loss: 0.164, reg_loss: 0.000), lr: 0.0006982752601075343\n",
      "step: 200, acc: 0.898, loss: 0.266 (data_loss: 0.266, reg_loss: 0.000), lr: 0.000693433187712364\n",
      "step: 300, acc: 0.961, loss: 0.151 (data_loss: 0.151, reg_loss: 0.000), lr: 0.0006886578059362303\n",
      "step: 400, acc: 0.914, loss: 0.185 (data_loss: 0.185, reg_loss: 0.000), lr: 0.0006839477463921757\n",
      "step: 468, acc: 0.927, loss: 0.195 (data_loss: 0.195, reg_loss: 0.000), lr: 0.000680781537204711\n",
      "training, acc: 0.922, loss: 0.210 (data_loss: 0.210, reg_loss: 0.000), lr: 0.000680781537204711\n",
      "validation, acc: 0.877, loss: 0.349\n"
     ]
    }
   ],
   "source": [
    "# Add layers\n",
    "model.add(Layer_Dense(X.shape[1], 128))\n",
    "model.add(Activation_ReLU())\n",
    "model.add(Layer_Dense(128, 128))\n",
    "model.add(Activation_ReLU())\n",
    "model.add(Layer_Dense(128, 10))\n",
    "model.add(Activation_Softmax())\n",
    "# Set loss, optimizer and accuracy objects\n",
    "model.set(\n",
    "loss=Loss_CategoricalCrossentropy(),\n",
    "optimizer=Optimizer_Adam(decay=1e-4),\n",
    "accuracy=Accuracy_Categorical()\n",
    ")\n",
    "# Finalize the model\n",
    "model.finalize()\n",
    "# Train the model\n",
    "model.train(X, y, validation_data=(X_test, y_test),\n",
    "epochs=10, batch_size=128, print_every=100)"
   ]
  },
  {
   "cell_type": "code",
   "execution_count": 26,
   "id": "68d7ef28-70aa-47d3-9fc5-48b0eb57ca2c",
   "metadata": {},
   "outputs": [
    {
     "name": "stdout",
     "output_type": "stream",
     "text": [
      "epoch: 1\n",
      "step: 0, acc: 0.086, loss: 3.117 (data_loss: 3.117, reg_loss: 0.000), lr: 0.001\n",
      "step: 100, acc: 0.742, loss: 0.637 (data_loss: 0.637, reg_loss: 0.000), lr: 0.0009090909090909091\n",
      "step: 200, acc: 0.867, loss: 0.447 (data_loss: 0.447, reg_loss: 0.000), lr: 0.0008333333333333334\n",
      "step: 300, acc: 0.812, loss: 0.414 (data_loss: 0.414, reg_loss: 0.000), lr: 0.0007692307692307692\n",
      "step: 400, acc: 0.859, loss: 0.494 (data_loss: 0.494, reg_loss: 0.000), lr: 0.0007142857142857143\n",
      "step: 468, acc: 0.833, loss: 0.431 (data_loss: 0.431, reg_loss: 0.000), lr: 0.000681198910081744\n",
      "training, acc: 0.817, loss: 0.509 (data_loss: 0.509, reg_loss: 0.000), lr: 0.000681198910081744\n",
      "validation, acc: 0.837, loss: 0.444\n",
      "epoch: 2\n",
      "step: 0, acc: 0.836, loss: 0.378 (data_loss: 0.378, reg_loss: 0.000), lr: 0.0006807351940095304\n",
      "step: 100, acc: 0.875, loss: 0.388 (data_loss: 0.388, reg_loss: 0.000), lr: 0.0006373486297004461\n",
      "step: 200, acc: 0.883, loss: 0.397 (data_loss: 0.397, reg_loss: 0.000), lr: 0.0005991611743559018\n",
      "step: 300, acc: 0.867, loss: 0.329 (data_loss: 0.329, reg_loss: 0.000), lr: 0.0005652911249293386\n",
      "step: 400, acc: 0.852, loss: 0.437 (data_loss: 0.437, reg_loss: 0.000), lr: 0.0005350454788657037\n",
      "step: 468, acc: 0.865, loss: 0.387 (data_loss: 0.387, reg_loss: 0.000), lr: 0.0005162622612287042\n",
      "training, acc: 0.866, loss: 0.371 (data_loss: 0.371, reg_loss: 0.000), lr: 0.0005162622612287042\n",
      "validation, acc: 0.855, loss: 0.398\n",
      "epoch: 3\n",
      "step: 0, acc: 0.883, loss: 0.301 (data_loss: 0.301, reg_loss: 0.000), lr: 0.0005159958720330237\n",
      "step: 100, acc: 0.906, loss: 0.318 (data_loss: 0.318, reg_loss: 0.000), lr: 0.0004906771344455348\n",
      "step: 200, acc: 0.875, loss: 0.350 (data_loss: 0.350, reg_loss: 0.000), lr: 0.0004677268475210477\n",
      "step: 300, acc: 0.875, loss: 0.290 (data_loss: 0.290, reg_loss: 0.000), lr: 0.00044682752457551384\n",
      "step: 400, acc: 0.867, loss: 0.420 (data_loss: 0.420, reg_loss: 0.000), lr: 0.00042771599657827206\n",
      "step: 468, acc: 0.854, loss: 0.368 (data_loss: 0.368, reg_loss: 0.000), lr: 0.0004156275976724854\n",
      "training, acc: 0.879, loss: 0.331 (data_loss: 0.331, reg_loss: 0.000), lr: 0.0004156275976724854\n",
      "validation, acc: 0.863, loss: 0.374\n",
      "epoch: 4\n",
      "step: 0, acc: 0.922, loss: 0.263 (data_loss: 0.263, reg_loss: 0.000), lr: 0.0004154549231408392\n",
      "step: 100, acc: 0.922, loss: 0.274 (data_loss: 0.274, reg_loss: 0.000), lr: 0.00039888312724371757\n",
      "step: 200, acc: 0.891, loss: 0.314 (data_loss: 0.314, reg_loss: 0.000), lr: 0.0003835826620636747\n",
      "step: 300, acc: 0.891, loss: 0.270 (data_loss: 0.270, reg_loss: 0.000), lr: 0.0003694126339120798\n",
      "step: 400, acc: 0.875, loss: 0.400 (data_loss: 0.400, reg_loss: 0.000), lr: 0.0003562522265764161\n",
      "step: 468, acc: 0.865, loss: 0.347 (data_loss: 0.347, reg_loss: 0.000), lr: 0.00034782608695652176\n",
      "training, acc: 0.887, loss: 0.306 (data_loss: 0.306, reg_loss: 0.000), lr: 0.00034782608695652176\n",
      "validation, acc: 0.868, loss: 0.362\n",
      "epoch: 5\n",
      "step: 0, acc: 0.922, loss: 0.239 (data_loss: 0.239, reg_loss: 0.000), lr: 0.0003477051460361613\n",
      "step: 100, acc: 0.922, loss: 0.255 (data_loss: 0.255, reg_loss: 0.000), lr: 0.00033602150537634406\n",
      "step: 200, acc: 0.891, loss: 0.293 (data_loss: 0.293, reg_loss: 0.000), lr: 0.00032509752925877764\n",
      "step: 300, acc: 0.906, loss: 0.259 (data_loss: 0.259, reg_loss: 0.000), lr: 0.00031486146095717883\n",
      "step: 400, acc: 0.875, loss: 0.372 (data_loss: 0.372, reg_loss: 0.000), lr: 0.00030525030525030525\n",
      "step: 468, acc: 0.875, loss: 0.318 (data_loss: 0.318, reg_loss: 0.000), lr: 0.0002990430622009569\n",
      "training, acc: 0.894, loss: 0.288 (data_loss: 0.288, reg_loss: 0.000), lr: 0.0002990430622009569\n",
      "validation, acc: 0.874, loss: 0.353\n",
      "epoch: 6\n",
      "step: 0, acc: 0.930, loss: 0.220 (data_loss: 0.220, reg_loss: 0.000), lr: 0.0002989536621823617\n",
      "step: 100, acc: 0.922, loss: 0.240 (data_loss: 0.240, reg_loss: 0.000), lr: 0.00029027576197387516\n",
      "step: 200, acc: 0.898, loss: 0.267 (data_loss: 0.267, reg_loss: 0.000), lr: 0.0002820874471086037\n",
      "step: 300, acc: 0.906, loss: 0.252 (data_loss: 0.252, reg_loss: 0.000), lr: 0.00027434842249657066\n",
      "step: 400, acc: 0.883, loss: 0.347 (data_loss: 0.347, reg_loss: 0.000), lr: 0.000267022696929239\n",
      "step: 468, acc: 0.896, loss: 0.301 (data_loss: 0.301, reg_loss: 0.000), lr: 0.00026226068712300026\n",
      "training, acc: 0.900, loss: 0.274 (data_loss: 0.274, reg_loss: 0.000), lr: 0.00026226068712300026\n",
      "validation, acc: 0.877, loss: 0.348\n",
      "epoch: 7\n",
      "step: 0, acc: 0.938, loss: 0.208 (data_loss: 0.208, reg_loss: 0.000), lr: 0.00026219192448872575\n",
      "step: 100, acc: 0.930, loss: 0.234 (data_loss: 0.234, reg_loss: 0.000), lr: 0.00025549310168625444\n",
      "step: 200, acc: 0.898, loss: 0.248 (data_loss: 0.248, reg_loss: 0.000), lr: 0.00024912805181863477\n",
      "step: 300, acc: 0.906, loss: 0.245 (data_loss: 0.245, reg_loss: 0.000), lr: 0.0002430724355858046\n",
      "step: 400, acc: 0.883, loss: 0.325 (data_loss: 0.325, reg_loss: 0.000), lr: 0.00023730422401518745\n",
      "step: 468, acc: 0.896, loss: 0.287 (data_loss: 0.287, reg_loss: 0.000), lr: 0.00023353573096683791\n",
      "training, acc: 0.904, loss: 0.263 (data_loss: 0.263, reg_loss: 0.000), lr: 0.00023353573096683791\n",
      "validation, acc: 0.877, loss: 0.344\n",
      "epoch: 8\n",
      "step: 0, acc: 0.945, loss: 0.201 (data_loss: 0.201, reg_loss: 0.000), lr: 0.00023348120476301658\n",
      "step: 100, acc: 0.930, loss: 0.225 (data_loss: 0.225, reg_loss: 0.000), lr: 0.00022815423226100847\n",
      "step: 200, acc: 0.898, loss: 0.236 (data_loss: 0.236, reg_loss: 0.000), lr: 0.0002230649118893598\n",
      "step: 300, acc: 0.906, loss: 0.236 (data_loss: 0.236, reg_loss: 0.000), lr: 0.00021819768710451667\n",
      "step: 400, acc: 0.891, loss: 0.312 (data_loss: 0.312, reg_loss: 0.000), lr: 0.00021353833013025838\n",
      "step: 468, acc: 0.896, loss: 0.270 (data_loss: 0.270, reg_loss: 0.000), lr: 0.00021048200378867611\n",
      "training, acc: 0.907, loss: 0.253 (data_loss: 0.253, reg_loss: 0.000), lr: 0.00021048200378867611\n",
      "validation, acc: 0.878, loss: 0.341\n",
      "epoch: 9\n",
      "step: 0, acc: 0.945, loss: 0.196 (data_loss: 0.196, reg_loss: 0.000), lr: 0.0002104377104377104\n",
      "step: 100, acc: 0.922, loss: 0.221 (data_loss: 0.221, reg_loss: 0.000), lr: 0.0002061005770816158\n",
      "step: 200, acc: 0.922, loss: 0.223 (data_loss: 0.223, reg_loss: 0.000), lr: 0.00020193861066235866\n",
      "step: 300, acc: 0.906, loss: 0.228 (data_loss: 0.228, reg_loss: 0.000), lr: 0.0001979414093428345\n",
      "step: 400, acc: 0.898, loss: 0.297 (data_loss: 0.297, reg_loss: 0.000), lr: 0.0001940993788819876\n",
      "step: 468, acc: 0.906, loss: 0.260 (data_loss: 0.260, reg_loss: 0.000), lr: 0.00019157088122605365\n",
      "training, acc: 0.911, loss: 0.244 (data_loss: 0.244, reg_loss: 0.000), lr: 0.00019157088122605365\n",
      "validation, acc: 0.880, loss: 0.338\n",
      "epoch: 10\n",
      "step: 0, acc: 0.945, loss: 0.192 (data_loss: 0.192, reg_loss: 0.000), lr: 0.0001915341888527102\n",
      "step: 100, acc: 0.922, loss: 0.215 (data_loss: 0.215, reg_loss: 0.000), lr: 0.00018793459875963167\n",
      "step: 200, acc: 0.930, loss: 0.215 (data_loss: 0.215, reg_loss: 0.000), lr: 0.00018446781036709093\n",
      "step: 300, acc: 0.914, loss: 0.219 (data_loss: 0.219, reg_loss: 0.000), lr: 0.00018112660749864155\n",
      "step: 400, acc: 0.906, loss: 0.288 (data_loss: 0.288, reg_loss: 0.000), lr: 0.00017790428749332856\n",
      "step: 468, acc: 0.917, loss: 0.250 (data_loss: 0.250, reg_loss: 0.000), lr: 0.00017577781683951485\n",
      "training, acc: 0.914, loss: 0.237 (data_loss: 0.237, reg_loss: 0.000), lr: 0.00017577781683951485\n",
      "validation, acc: 0.882, loss: 0.337\n"
     ]
    }
   ],
   "source": [
    "# Create dataset\n",
    "X, y, X_test, y_test = create_data_mnist('fashion_mnist_images')\n",
    "# Shuffle the training dataset\n",
    "keys = np.array(range(X.shape[0]))\n",
    "np.random.shuffle(keys)\n",
    "X = X[keys]\n",
    "y = y[keys]\n",
    "# Scale and reshape samples\n",
    "X = (X.reshape(X.shape[0], -1).astype(np.float32) - 127.5) / 127.5\n",
    "X_test = (X_test.reshape(X_test.shape[0], -1).astype(np.float32) -\n",
    "127.5) / 127.5\n",
    "# Instantiate the model\n",
    "model = Model()\n",
    "# Add layers\n",
    "model.add(Layer_Dense(X.shape[1], 128))\n",
    "model.add(Activation_ReLU())\n",
    "model.add(Layer_Dense(128, 128))\n",
    "model.add(Activation_ReLU())\n",
    "model.add(Layer_Dense(128, 10))\n",
    "model.add(Activation_Softmax())\n",
    "# Set loss, optimizer and accuracy objects\n",
    "model.set(\n",
    "loss=Loss_CategoricalCrossentropy(),\n",
    "optimizer=Optimizer_Adam(decay=1e-3),\n",
    "accuracy=Accuracy_Categorical()\n",
    ")\n",
    "# Finalize the model\n",
    "model.finalize()\n",
    "# Train the model\n",
    "model.train(X, y, validation_data=(X_test, y_test),\n",
    "epochs=10, batch_size=128, print_every=100)"
   ]
  },
  {
   "cell_type": "code",
   "execution_count": 27,
   "id": "acb873d8-c235-48cd-9e7a-df3a682d1b43",
   "metadata": {},
   "outputs": [
    {
     "name": "stdout",
     "output_type": "stream",
     "text": [
      "validation, acc: 0.882, loss: 0.337\n"
     ]
    }
   ],
   "source": [
    "model.evaluate(X_test, y_test)"
   ]
  },
  {
   "cell_type": "code",
   "execution_count": 28,
   "id": "9016b6a6-fc43-4ac0-97c2-ac852df1ee14",
   "metadata": {},
   "outputs": [
    {
     "name": "stdout",
     "output_type": "stream",
     "text": [
      "[(array([[ 0.02521889,  0.08938832, -0.1608365 , ..., -0.02703916,  0.07965807,  0.10114899],\n",
      "       [-0.06719265, -0.13356113, -0.09443446, ...,  0.00691596, -0.10412605,  0.01500837],\n",
      "       [ 0.01586982,  0.06090123,  0.00335121, ..., -0.063127  , -0.01383904, -0.0290618 ],\n",
      "       ...,\n",
      "       [-0.08656112,  0.08361884,  0.09678821, ...,  0.09304481, -0.01654643,  0.06863107],\n",
      "       [ 0.01243094,  0.06721289, -0.13292092, ..., -0.05922715,  0.1084963 ,  0.0768494 ],\n",
      "       [-0.03918867, -0.06110323,  0.05334858, ..., -0.10926983,  0.13221031,  0.12150342]], shape=(784, 128), dtype=float32), array([[-0.01830561, -0.00498154,  0.00072879,  0.00549659, -0.00045841,  0.00415319,  0.04305911, -0.00597914, -0.01871883,  0.00030987,  0.01012243,  0.00644998, -0.0246202 ,  0.01532106,\n",
      "        -0.02318109,  0.00777509,  0.00458539,  0.00727849, -0.02247309,  0.02093255, -0.00622604, -0.00234732, -0.01927476,  0.00590688, -0.02097457, -0.00084965, -0.01300064, -0.0014526 ,\n",
      "        -0.00766756, -0.02336496, -0.00894311, -0.01577987,  0.03232456,  0.01686451, -0.01384061, -0.01691074,  0.00087101,  0.00536224, -0.00933074, -0.00971114, -0.00240306,  0.00265315,\n",
      "         0.00468041, -0.0198548 ,  0.02508408, -0.00839154, -0.00550883,  0.01451593,  0.01477568,  0.00400094,  0.00114246,  0.00017176,  0.01736532, -0.01405127, -0.03081984, -0.00738531,\n",
      "         0.00619676, -0.01584007, -0.01242763,  0.00523982, -0.01744312, -0.0114233 ,  0.01613077, -0.00600663,  0.00272902,  0.01384002,  0.01599209,  0.00622785, -0.00933479,  0.00962989,\n",
      "        -0.01963334,  0.00052853, -0.01064719, -0.00441976, -0.01983673,  0.00413801,  0.00554444, -0.00678055,  0.0061409 ,  0.00180981,  0.03602665,  0.00909507, -0.01379647, -0.0123613 ,\n",
      "         0.00401271, -0.00237226,  0.00364101,  0.0038911 ,  0.0261663 , -0.00562148, -0.00125967,  0.0026363 ,  0.0150407 , -0.00230543, -0.00520034, -0.01393513,  0.03500518,  0.00911344,\n",
      "        -0.01356118, -0.00106724, -0.00016663, -0.0239918 ,  0.00818475,  0.00697212, -0.0115357 , -0.01529707,  0.00089844, -0.00639806, -0.01576837,  0.0131687 , -0.03892495,  0.00216943,\n",
      "        -0.00930421, -0.00959678, -0.00109353,  0.00045216, -0.00904932, -0.01150394, -0.01222325,  0.00307344,  0.01094848, -0.01247603,  0.00270823, -0.00696581,  0.02599512,  0.00202852,\n",
      "        -0.00879032, -0.00647653]], dtype=float32)), (array([[ 0.09211062,  0.12774444, -0.09834443, ..., -0.05126638,  0.05301882,  0.07270662],\n",
      "       [ 0.13217731,  0.06021777, -0.2493202 , ...,  0.004847  ,  0.05158566, -0.0425314 ],\n",
      "       [ 0.09271373, -0.06487952,  0.08821602, ..., -0.07479409, -0.19967596, -0.06296157],\n",
      "       ...,\n",
      "       [ 0.01418969, -0.04005617,  0.02346088, ..., -0.04957912,  0.15399633, -0.05903754],\n",
      "       [-0.13627939, -0.03524047,  0.05270969, ..., -0.01393545,  0.04808237, -0.06308859],\n",
      "       [-0.10386855, -0.01197009, -0.2141482 , ...,  0.03108279, -0.02011453, -0.00916854]], shape=(128, 128), dtype=float32), array([[ 1.5307384e-02,  4.4487230e-03, -1.0124563e-02,  1.6418302e-02,  2.0453623e-04,  1.5497552e-02,  1.0073867e-02,  9.3920659e-03,  7.0773042e-04, -1.6439585e-02,  3.3015583e-02,\n",
      "        -1.9294510e-02, -4.1551846e-03, -6.3372354e-05,  8.4824432e-03, -8.6578205e-03,  1.2189748e-02, -2.0529974e-02, -5.2917162e-03,  6.7783010e-05,  8.8686133e-03, -2.2921791e-02,\n",
      "        -2.2263654e-02,  2.9535487e-03,  3.1993184e-02,  5.3888760e-03, -8.6653735e-03, -1.8814070e-02,  8.1808940e-03, -3.9720051e-03,  1.5112109e-02,  2.0339390e-02, -1.4471451e-02,\n",
      "         1.0535341e-02,  2.3599837e-03,  3.5703100e-02, -1.0256127e-02, -3.0343719e-03, -6.4681834e-03, -2.2150774e-02, -4.5973756e-03,  1.3279114e-02,  6.9471938e-03,  1.6991589e-02,\n",
      "         8.7089827e-03,  9.6215094e-03,  1.9632647e-02,  1.2447247e-02,  1.6923947e-02, -1.5475266e-02,  7.5182049e-03,  2.2474343e-03, -1.8521799e-02,  5.5514462e-03,  1.4222370e-02,\n",
      "        -2.2410901e-02, -7.1306108e-03, -8.5344852e-04,  2.8207298e-02,  1.5157777e-02,  3.8167164e-03,  3.9097886e-03,  1.8493962e-02,  1.7888062e-03, -7.8947851e-03, -7.2843977e-03,\n",
      "         7.7998475e-03, -1.4599820e-02,  2.4165278e-02,  3.3196289e-02, -2.0617936e-04, -2.6448432e-03,  3.3311504e-03,  1.0349996e-02,  6.6924957e-03,  3.1125471e-03,  1.7429378e-02,\n",
      "        -3.6810876e-03,  2.1699097e-02, -2.4534849e-02,  1.7516183e-02,  2.0930249e-02, -2.4735807e-02, -4.9245749e-03, -4.3513274e-04, -1.8476574e-02,  1.8069975e-02,  2.0518562e-02,\n",
      "        -1.4586174e-02, -1.3721673e-02,  7.6151788e-03, -2.1534995e-03, -1.4235421e-02, -6.4941971e-03,  4.5217145e-03,  1.1215066e-03,  2.4462208e-02, -1.1721794e-02, -1.0528954e-02,\n",
      "        -1.5548272e-02, -1.6286749e-02, -1.0053240e-02,  1.7094603e-02, -9.1095222e-03, -2.0493293e-02, -7.3947152e-03,  3.4218390e-02,  6.6623138e-03, -1.3622309e-02, -1.4898648e-02,\n",
      "         1.8407067e-02, -8.7691890e-03, -2.3802114e-03,  1.9179657e-02,  2.7462637e-02,  1.1400732e-02,  7.5835071e-04, -1.3160390e-02, -3.0403237e-03, -1.5632804e-03,  1.1750506e-02,\n",
      "        -3.3968149e-03, -1.4397523e-02,  3.6542810e-02,  1.5714180e-02, -1.5760764e-02,  3.8295602e-03,  3.4374110e-03]], dtype=float32)), (array([[-0.06479661,  0.17651103,  0.15644269, ..., -0.21828488,  0.01501134, -0.20270973],\n",
      "       [ 0.09634537, -0.15556373,  0.03856108, ..., -0.44758406, -0.17053963, -0.03740566],\n",
      "       [-0.00935911,  0.24445587, -0.21104959, ..., -0.11283199, -0.02385047,  0.02572868],\n",
      "       ...,\n",
      "       [-0.22821122,  0.05823925,  0.00686271, ...,  0.1184159 , -0.15040708, -0.12739411],\n",
      "       [ 0.0543381 ,  0.08544132,  0.04563877, ...,  0.01099977,  0.21518266, -0.14463817],\n",
      "       [ 0.06288055, -0.1541691 , -0.0639993 , ..., -0.43557122, -0.0742621 , -0.02194743]], shape=(128, 10), dtype=float32), array([[-0.01865779, -0.00746818,  0.01637744, -0.00354749,  0.00651866, -0.03668444,  0.00791066,  0.0035044 ,  0.04232895,  0.0075027 ]], dtype=float32))]\n"
     ]
    }
   ],
   "source": [
    "parameters = model.get_parameters()\n",
    "print(parameters)"
   ]
  },
  {
   "cell_type": "code",
   "execution_count": 29,
   "id": "04f07e10-180d-4d14-817e-3e85a5a3a287",
   "metadata": {},
   "outputs": [],
   "source": [
    "model.save_parameters('fashion_mnist.parms')"
   ]
  },
  {
   "cell_type": "code",
   "execution_count": 30,
   "id": "49476a73-23cd-4a80-a44c-42dfd9f42a56",
   "metadata": {},
   "outputs": [],
   "source": [
    "model.save('fashion_mnist.model')"
   ]
  },
  {
   "cell_type": "code",
   "execution_count": 31,
   "id": "5fe4a481-aa15-42c7-af5d-5ecb7f6564d3",
   "metadata": {},
   "outputs": [],
   "source": [
    "# Load the model\n",
    "model = Model.load('fashion_mnist.model')"
   ]
  },
  {
   "cell_type": "code",
   "execution_count": 32,
   "id": "b2442546-fd8e-42f2-a15a-66c6202389bc",
   "metadata": {},
   "outputs": [],
   "source": [
    "import numpy as np"
   ]
  },
  {
   "cell_type": "code",
   "execution_count": 41,
   "id": "b837f99b-82a2-4f11-b43d-648323596f52",
   "metadata": {},
   "outputs": [
    {
     "name": "stdout",
     "output_type": "stream",
     "text": [
      "[9 9 9 9 9 9 9 9 9 7 9 9 9 9 9 9 9 9 9 9 9 9 9 7 9 9 9 9 9 9 5 9 9 9 9 9 9 7 9 9 9 9 9 9 9 9 9 9 9 9]\n",
      "[9 9 9 9 9 9 9 9 9 9 9 9 9 9 9 9 9 9 9 9 9 9 9 9 9 9 9 9 9 9 9 9 9 9 9 9 9 9 9 9 9 9 9 9 9 9 9 9 9 9]\n"
     ]
    }
   ],
   "source": [
    "confidences = model.predict(X_test[:50])\n",
    "predictions = model.output_layer_activation.predictions(confidences)\n",
    "print(predictions)\n",
    "# Print first 5 labels\n",
    "print(y_test[:50])"
   ]
  },
  {
   "cell_type": "code",
   "execution_count": 42,
   "id": "8108b47e-9a0d-4bd3-9d1d-e7b541857488",
   "metadata": {},
   "outputs": [],
   "source": [
    "# Loads a MNIST dataset\n",
    "def load_mnist_dataset(dataset, path):\n",
    "    # Scan all the directories and create a list of labels\n",
    "    labels = os.listdir(os.path.join(path, dataset))\n",
    "    # Create lists for samples and labels\n",
    "    X = []\n",
    "    y = []\n",
    "    # For each label folder\n",
    "    for label in labels:\n",
    "        # And for each image in given folder\n",
    "        for file in os.listdir(os.path.join(path, dataset, label)):\n",
    "            # Read the image\n",
    "            image = cv2.imread(\n",
    "            os.path.join(path, dataset, label, file),\n",
    "            cv2.IMREAD_UNCHANGED)\n",
    "            # And append it and a label to the lists\n",
    "            X.append(image)\n",
    "            y.append(label)\n",
    "    # Convert the data to proper numpy arrays and return\n",
    "    return np.array(X), np.array(y).astype('uint8')"
   ]
  },
  {
   "cell_type": "code",
   "execution_count": 43,
   "id": "53558b5b-5d4c-4229-b489-a43da3428d4c",
   "metadata": {},
   "outputs": [],
   "source": [
    "# MNIST dataset (train + test)\n",
    "def create_data_mnist(path):\n",
    "    # Load both sets separately\n",
    "    X, y = load_mnist_dataset('train', path)\n",
    "    X_test, y_test = load_mnist_dataset('test', path)\n",
    "    # And return all the data\n",
    "    return X, y, X_test, y_test"
   ]
  },
  {
   "cell_type": "code",
   "execution_count": 45,
   "id": "04b9a4d3-d65d-4203-88e4-3ae29c669072",
   "metadata": {},
   "outputs": [],
   "source": [
    "# Read an image\n",
    "image_data = cv2.imread('pants.png', cv2.IMREAD_GRAYSCALE)"
   ]
  },
  {
   "cell_type": "code",
   "execution_count": 46,
   "id": "4fd1871c-cc0f-4171-b373-8337550ec882",
   "metadata": {},
   "outputs": [],
   "source": [
    "# Resize to the same size as Fashion MNIST images\n",
    "image_data = cv2.resize(image_data, (28, 28))"
   ]
  },
  {
   "cell_type": "code",
   "execution_count": 47,
   "id": "45204632-ae81-40b8-a093-66bcdfa9d84a",
   "metadata": {},
   "outputs": [],
   "source": [
    "# Invert image colors\n",
    "image_data = 255 - image_data\n",
    "# Reshape and scale pixel data\n",
    "image_data = (image_data.reshape(1, -1).astype(np.float32) -\n",
    "127.5) / 127.5"
   ]
  },
  {
   "cell_type": "code",
   "execution_count": 48,
   "id": "112b2117-6154-48f6-88b9-aeac8fa1aaef",
   "metadata": {},
   "outputs": [],
   "source": [
    "# Load the model\n",
    "model = Model.load('fashion_mnist.model')"
   ]
  },
  {
   "cell_type": "code",
   "execution_count": 49,
   "id": "a6ae253e-8529-4550-8ab9-bfd84b9583f8",
   "metadata": {},
   "outputs": [],
   "source": [
    "# Predict on the image\n",
    "confidences = model.predict(image_data)\n",
    "# Get prediction instead of confidence levels\n",
    "predictions = model.output_layer_activation.predictions(confidences)"
   ]
  },
  {
   "cell_type": "code",
   "execution_count": 51,
   "id": "c28e89f1-3a52-4d50-8418-002ce014390c",
   "metadata": {},
   "outputs": [],
   "source": [
    "# Label index to label name relation\n",
    "fashion_mnist_labels = {\n",
    "    0: 'T-shirt/top',\n",
    "    1: 'Trouser',\n",
    "    2: 'Pullover',\n",
    "    3: 'Dress',\n",
    "    4: 'Coat',\n",
    "    5: 'Sandal',\n",
    "    6: 'Shirt',\n",
    "    7: 'Sneaker',\n",
    "    8: 'Bag',\n",
    "    9: 'Ankle boot'\n",
    "}"
   ]
  },
  {
   "cell_type": "code",
   "execution_count": 52,
   "id": "db448795-4b18-4b0b-869a-e41643b7e04c",
   "metadata": {},
   "outputs": [
    {
     "name": "stdout",
     "output_type": "stream",
     "text": [
      "Trouser\n"
     ]
    }
   ],
   "source": [
    "# Get label name from label index\n",
    "prediction = fashion_mnist_labels[predictions[0]]\n",
    "print(prediction)"
   ]
  }
 ],
 "metadata": {
  "kernelspec": {
   "display_name": "Python 3 (ipykernel)",
   "language": "python",
   "name": "python3"
  },
  "language_info": {
   "codemirror_mode": {
    "name": "ipython",
    "version": 3
   },
   "file_extension": ".py",
   "mimetype": "text/x-python",
   "name": "python",
   "nbconvert_exporter": "python",
   "pygments_lexer": "ipython3",
   "version": "3.10.16"
  }
 },
 "nbformat": 4,
 "nbformat_minor": 5
}
