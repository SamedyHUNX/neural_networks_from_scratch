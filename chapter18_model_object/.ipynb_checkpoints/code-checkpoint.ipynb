{
 "cells": [
  {
   "cell_type": "markdown",
   "id": "c99a2f76-2288-4250-b091-201a80e50094",
   "metadata": {},
   "source": [
    "# Chapter XVIII: Model Object"
   ]
  },
  {
   "cell_type": "code",
   "execution_count": 1,
   "id": "e1fb9e1a-c4b9-49c8-9d89-f0b63246d064",
   "metadata": {},
   "outputs": [],
   "source": [
    "import sys, os\n",
    "\n",
    "# Go up one directory and into 'notebooks'\n",
    "sys.path.append(os.path.abspath('../modules'))\n",
    "\n",
    "import numpy as np\n",
    "from model import Model\n",
    "from layers import Layer_Dense, Layer_Dropout\n",
    "from activation_functions import Activation_ReLU, Activation_Linear, Activation_Softmax\n",
    "from losses import Loss_MeanSquaredError, Loss_CategoricalCrossentropy\n",
    "from optimizers import Optimizer_Adam\n",
    "from accuracy import Accuracy_Regression, Accuracy_Categorical"
   ]
  },
  {
   "cell_type": "code",
   "execution_count": 2,
   "id": "376a0d21-b385-4a11-9c3b-033b63cd385b",
   "metadata": {},
   "outputs": [],
   "source": [
    "from nnfs.datasets import sine_data, spiral_data"
   ]
  },
  {
   "cell_type": "code",
   "execution_count": null,
   "id": "1f5ff700-75e0-4cb4-adbd-9b38a4668817",
   "metadata": {},
   "outputs": [
    {
     "name": "stdout",
     "output_type": "stream",
     "text": [
      "epoch: 100, acc: 0.727, loss: 0.703 (data_loss: 0.635, reg_loss: 0.068), lr: 0.04975371909050202\n",
      "epoch: 200, acc: 0.798, loss: 0.612 (data_loss: 0.528, reg_loss: 0.084), lr: 0.049507401356502806\n",
      "epoch: 300, acc: 0.809, loss: 0.572 (data_loss: 0.488, reg_loss: 0.084), lr: 0.0492635105177595\n",
      "epoch: 400, acc: 0.820, loss: 0.549 (data_loss: 0.465, reg_loss: 0.083), lr: 0.04902201088288642\n",
      "epoch: 500, acc: 0.846, loss: 0.523 (data_loss: 0.443, reg_loss: 0.079), lr: 0.048782867456949125\n",
      "epoch: 600, acc: 0.836, loss: 0.517 (data_loss: 0.438, reg_loss: 0.079), lr: 0.04854604592455945\n",
      "epoch: 700, acc: 0.720, loss: 0.848 (data_loss: 0.773, reg_loss: 0.075), lr: 0.048311512633460556\n",
      "epoch: 800, acc: 0.848, loss: 0.490 (data_loss: 0.407, reg_loss: 0.084), lr: 0.04807923457858551\n",
      "epoch: 900, acc: 0.849, loss: 0.493 (data_loss: 0.418, reg_loss: 0.075), lr: 0.04784917938657352\n",
      "epoch: 1000, acc: 0.849, loss: 0.492 (data_loss: 0.422, reg_loss: 0.070), lr: 0.04762131530072861\n",
      "epoch: 1100, acc: 0.859, loss: 0.465 (data_loss: 0.397, reg_loss: 0.067), lr: 0.04739561116640599\n",
      "epoch: 1200, acc: 0.840, loss: 0.492 (data_loss: 0.425, reg_loss: 0.067), lr: 0.04717203641681212\n",
      "epoch: 1300, acc: 0.855, loss: 0.466 (data_loss: 0.398, reg_loss: 0.068), lr: 0.04695056105920466\n",
      "epoch: 1400, acc: 0.850, loss: 0.470 (data_loss: 0.405, reg_loss: 0.065), lr: 0.04673115566147951\n",
      "epoch: 1500, acc: 0.846, loss: 0.477 (data_loss: 0.413, reg_loss: 0.064), lr: 0.046513791339132055\n",
      "epoch: 1600, acc: 0.840, loss: 0.520 (data_loss: 0.455, reg_loss: 0.064), lr: 0.04629843974258068\n",
      "epoch: 1700, acc: 0.859, loss: 0.462 (data_loss: 0.397, reg_loss: 0.066), lr: 0.046085073044840774\n",
      "epoch: 1800, acc: 0.852, loss: 0.463 (data_loss: 0.400, reg_loss: 0.063), lr: 0.04587366392953806\n",
      "epoch: 1900, acc: 0.865, loss: 0.456 (data_loss: 0.392, reg_loss: 0.064), lr: 0.04566418557925019\n",
      "epoch: 2000, acc: 0.856, loss: 0.472 (data_loss: 0.410, reg_loss: 0.062), lr: 0.045456611664166556\n",
      "epoch: 2100, acc: 0.852, loss: 0.449 (data_loss: 0.387, reg_loss: 0.062), lr: 0.045250916331055706\n",
      "epoch: 2200, acc: 0.868, loss: 0.463 (data_loss: 0.403, reg_loss: 0.060), lr: 0.0450470741925312\n",
      "epoch: 2300, acc: 0.856, loss: 0.468 (data_loss: 0.406, reg_loss: 0.062), lr: 0.04484506031660612\n",
      "epoch: 2400, acc: 0.846, loss: 0.465 (data_loss: 0.406, reg_loss: 0.060), lr: 0.04464485021652753\n",
      "epoch: 2500, acc: 0.854, loss: 0.451 (data_loss: 0.392, reg_loss: 0.058), lr: 0.044446419840881816\n",
      "epoch: 2600, acc: 0.859, loss: 0.452 (data_loss: 0.395, reg_loss: 0.057), lr: 0.04424974556396301\n",
      "epoch: 2700, acc: 0.860, loss: 0.445 (data_loss: 0.386, reg_loss: 0.059), lr: 0.04405480417639544\n",
      "epoch: 2800, acc: 0.854, loss: 0.451 (data_loss: 0.392, reg_loss: 0.059), lr: 0.04386157287600334\n",
      "epoch: 2900, acc: 0.851, loss: 0.492 (data_loss: 0.424, reg_loss: 0.069), lr: 0.04367002925891961\n",
      "epoch: 3000, acc: 0.846, loss: 0.471 (data_loss: 0.404, reg_loss: 0.067), lr: 0.043480151310926564\n",
      "epoch: 3100, acc: 0.852, loss: 0.453 (data_loss: 0.390, reg_loss: 0.062), lr: 0.04329191739902161\n",
      "epoch: 3200, acc: 0.860, loss: 0.438 (data_loss: 0.379, reg_loss: 0.059), lr: 0.043105306263201\n",
      "epoch: 3300, acc: 0.864, loss: 0.436 (data_loss: 0.378, reg_loss: 0.058), lr: 0.0429202970084553\n",
      "epoch: 3400, acc: 0.864, loss: 0.435 (data_loss: 0.378, reg_loss: 0.057), lr: 0.04273686909696996\n",
      "epoch: 3500, acc: 0.866, loss: 0.413 (data_loss: 0.357, reg_loss: 0.056), lr: 0.04255500234052514\n",
      "epoch: 3600, acc: 0.861, loss: 0.453 (data_loss: 0.399, reg_loss: 0.054), lr: 0.042374676893088686\n",
      "epoch: 3700, acc: 0.855, loss: 0.454 (data_loss: 0.400, reg_loss: 0.054), lr: 0.042195873243596776\n",
      "epoch: 3800, acc: 0.857, loss: 0.449 (data_loss: 0.395, reg_loss: 0.055), lr: 0.04201857220891634\n",
      "epoch: 3900, acc: 0.873, loss: 0.414 (data_loss: 0.354, reg_loss: 0.059), lr: 0.041842754926984395\n",
      "epoch: 4000, acc: 0.855, loss: 0.457 (data_loss: 0.395, reg_loss: 0.061), lr: 0.04166840285011875\n",
      "epoch: 4100, acc: 0.867, loss: 0.459 (data_loss: 0.399, reg_loss: 0.060), lr: 0.041495497738495375\n",
      "epoch: 4200, acc: 0.859, loss: 0.427 (data_loss: 0.371, reg_loss: 0.056), lr: 0.041324021653787346\n",
      "epoch: 4300, acc: 0.862, loss: 0.429 (data_loss: 0.374, reg_loss: 0.055), lr: 0.041153956952961035\n",
      "epoch: 4400, acc: 0.867, loss: 0.429 (data_loss: 0.376, reg_loss: 0.054), lr: 0.040985286282224684\n",
      "epoch: 4500, acc: 0.871, loss: 0.409 (data_loss: 0.357, reg_loss: 0.052), lr: 0.04081799257112535\n",
      "epoch: 4600, acc: 0.855, loss: 0.429 (data_loss: 0.377, reg_loss: 0.053), lr: 0.04065205902678971\n",
      "epoch: 4700, acc: 0.863, loss: 0.441 (data_loss: 0.385, reg_loss: 0.056), lr: 0.04048746912830479\n",
      "epoch: 4800, acc: 0.867, loss: 0.427 (data_loss: 0.375, reg_loss: 0.052), lr: 0.04032420662123473\n",
      "epoch: 4900, acc: 0.854, loss: 0.439 (data_loss: 0.388, reg_loss: 0.051), lr: 0.04016225551226957\n",
      "epoch: 5000, acc: 0.858, loss: 0.436 (data_loss: 0.384, reg_loss: 0.051), lr: 0.04000160006400256\n",
      "epoch: 5100, acc: 0.857, loss: 0.453 (data_loss: 0.401, reg_loss: 0.053), lr: 0.039842224789832265\n",
      "epoch: 5200, acc: 0.863, loss: 0.422 (data_loss: 0.368, reg_loss: 0.053), lr: 0.03968411444898608\n",
      "epoch: 5300, acc: 0.866, loss: 0.409 (data_loss: 0.356, reg_loss: 0.052), lr: 0.03952725404166173\n",
      "epoch: 5400, acc: 0.856, loss: 0.433 (data_loss: 0.382, reg_loss: 0.052), lr: 0.03937162880428363\n",
      "epoch: 5500, acc: 0.868, loss: 0.448 (data_loss: 0.394, reg_loss: 0.054), lr: 0.03921722420487078\n",
      "epoch: 5600, acc: 0.861, loss: 0.424 (data_loss: 0.372, reg_loss: 0.053), lr: 0.03906402593851323\n",
      "epoch: 5700, acc: 0.865, loss: 0.445 (data_loss: 0.393, reg_loss: 0.052), lr: 0.038912019922954205\n",
      "epoch: 5800, acc: 0.861, loss: 0.426 (data_loss: 0.375, reg_loss: 0.051), lr: 0.038761192294274965\n",
      "epoch: 5900, acc: 0.859, loss: 0.439 (data_loss: 0.388, reg_loss: 0.051), lr: 0.038611529402679645\n",
      "epoch: 6000, acc: 0.863, loss: 0.438 (data_loss: 0.386, reg_loss: 0.052), lr: 0.03846301780837725\n",
      "epoch: 6100, acc: 0.855, loss: 0.439 (data_loss: 0.387, reg_loss: 0.052), lr: 0.03831564427755853\n",
      "epoch: 6200, acc: 0.872, loss: 0.419 (data_loss: 0.369, reg_loss: 0.050), lr: 0.03816939577846483\n"
     ]
    }
   ],
   "source": [
    "# Create dataset\n",
    "X, y = spiral_data(samples=1000, classes=3)\n",
    "X_test, y_test = spiral_data(samples=100, classes=3)\n",
    "# Instantiate the model\n",
    "model = Model()\n",
    "# Add layers\n",
    "model.add(Layer_Dense(2, 512, weight_regularizer_l2=5e-4, bias_regularizer_l2=5e-4))\n",
    "model.add(Activation_ReLU())\n",
    "model.add(Layer_Dropout(0.1))\n",
    "model.add(Layer_Dense(512, 3))\n",
    "model.add(Activation_Softmax())\n",
    "# Set loss, optimizer and accuracy objects\n",
    "model.set(\n",
    "    loss=Loss_CategoricalCrossentropy(),\n",
    "    optimizer=Optimizer_Adam(learning_rate=0.05, decay=5e-5),\n",
    "    accuracy=Accuracy_Categorical()\n",
    ")\n",
    "# Finalize the model\n",
    "model.finalize()\n",
    "# Train the model\n",
    "model.train(X, y, validation_data=(X_test, y_test), epochs=10000, print_every=100)\n",
    "model.train(X, y, epochs=6000, print_every=100)"
   ]
  }
 ],
 "metadata": {
  "kernelspec": {
   "display_name": "Python 3 (ipykernel)",
   "language": "python",
   "name": "python3"
  },
  "language_info": {
   "codemirror_mode": {
    "name": "ipython",
    "version": 3
   },
   "file_extension": ".py",
   "mimetype": "text/x-python",
   "name": "python",
   "nbconvert_exporter": "python",
   "pygments_lexer": "ipython3",
   "version": "3.10.16"
  }
 },
 "nbformat": 4,
 "nbformat_minor": 5
}
